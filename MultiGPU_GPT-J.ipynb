{
 "cells": [
  {
   "cell_type": "code",
   "execution_count": 1,
   "id": "352eb4e8-70f5-493c-b514-e852d70445ed",
   "metadata": {},
   "outputs": [],
   "source": [
    "import numpy as np\n",
    "import pandas as pd\n",
    "import os"
   ]
  },
  {
   "cell_type": "code",
   "execution_count": 2,
   "id": "71896ec1-109c-4e5c-82b0-5548558372f5",
   "metadata": {},
   "outputs": [],
   "source": [
    "model_name = \"EleutherAI/gpt-j-6B\"\n",
    "use_gpu = True\n",
    "num_workers = 2\n",
    "cpus_per_worker = 4"
   ]
  },
  {
   "cell_type": "code",
   "execution_count": 3,
   "id": "76bd08c4-4f60-44dd-9065-4d82b292d88a",
   "metadata": {},
   "outputs": [
    {
     "name": "stderr",
     "output_type": "stream",
     "text": [
      "2024-01-24 09:33:47,352\tWARNING utils.py:575 -- Detecting docker specified CPUs. In previous versions of Ray, CPU detection in containers was incorrect. Please ensure that Ray has enough CPUs allocated. As a temporary workaround to revert to the prior behavior, set `RAY_USE_MULTIPROCESSING_CPU_COUNT=1` as an env var before starting Ray. Set the env var: `RAY_DISABLE_DOCKER_CPU_WARNING=1` to mute this warning.\n",
      "2024-01-24 09:33:47,357\tWARNING utils.py:587 -- Ray currently does not support initializing Ray with fractional cpus. Your num_cpus will be truncated from 40.8 to 40.\n",
      "2024-01-24 09:33:48,733\tINFO worker.py:1724 -- Started a local Ray instance.\n"
     ]
    },
    {
     "data": {
      "application/vnd.jupyter.widget-view+json": {
       "model_id": "a0a1dc5bca52437798718393f8353c66",
       "version_major": 2,
       "version_minor": 0
      },
      "text/html": [
       "<div class=\"lm-Widget p-Widget lm-Panel p-Panel jp-Cell-outputWrapper\">\n",
       "    <div style=\"margin-left: 50px;display: flex;flex-direction: row;align-items: center\">\n",
       "        <div class=\"jp-RenderedHTMLCommon\" style=\"display: flex; flex-direction: row;\">\n",
       "  <svg viewBox=\"0 0 567 224\" fill=\"none\" xmlns=\"http://www.w3.org/2000/svg\" style=\"height: 3em;\">\n",
       "    <g clip-path=\"url(#clip0_4338_178347)\">\n",
       "        <path d=\"M341.29 165.561H355.29L330.13 129.051C345.63 123.991 354.21 112.051 354.21 94.2307C354.21 71.3707 338.72 58.1807 311.88 58.1807H271V165.561H283.27V131.661H311.8C314.25 131.661 316.71 131.501 319.01 131.351L341.25 165.561H341.29ZM283.29 119.851V70.0007H311.82C331.3 70.0007 342.34 78.2907 342.34 94.5507C342.34 111.271 331.34 119.861 311.82 119.861L283.29 119.851ZM451.4 138.411L463.4 165.561H476.74L428.74 58.1807H416L367.83 165.561H380.83L392.83 138.411H451.4ZM446.19 126.601H398L422 72.1407L446.24 126.601H446.19ZM526.11 128.741L566.91 58.1807H554.35L519.99 114.181L485.17 58.1807H472.44L514.01 129.181V165.541H526.13V128.741H526.11Z\" fill=\"var(--jp-ui-font-color0)\"/>\n",
       "        <path d=\"M82.35 104.44C84.0187 97.8827 87.8248 92.0678 93.1671 87.9146C98.5094 83.7614 105.083 81.5067 111.85 81.5067C118.617 81.5067 125.191 83.7614 130.533 87.9146C135.875 92.0678 139.681 97.8827 141.35 104.44H163.75C164.476 101.562 165.622 98.8057 167.15 96.2605L127.45 56.5605C121.071 60.3522 113.526 61.6823 106.235 60.3005C98.9443 58.9187 92.4094 54.9203 87.8602 49.0574C83.3109 43.1946 81.0609 35.8714 81.5332 28.4656C82.0056 21.0599 85.1679 14.0819 90.4252 8.8446C95.6824 3.60726 102.672 0.471508 110.08 0.0272655C117.487 -0.416977 124.802 1.86091 130.647 6.4324C136.493 11.0039 140.467 17.5539 141.821 24.8501C143.175 32.1463 141.816 39.6859 138 46.0505L177.69 85.7505C182.31 82.9877 187.58 81.4995 192.962 81.4375C198.345 81.3755 203.648 82.742 208.33 85.3976C213.012 88.0532 216.907 91.9029 219.616 96.5544C222.326 101.206 223.753 106.492 223.753 111.875C223.753 117.258 222.326 122.545 219.616 127.197C216.907 131.848 213.012 135.698 208.33 138.353C203.648 141.009 198.345 142.375 192.962 142.313C187.58 142.251 182.31 140.763 177.69 138L138 177.7C141.808 184.071 143.155 191.614 141.79 198.91C140.424 206.205 136.44 212.75 130.585 217.313C124.731 221.875 117.412 224.141 110.004 223.683C102.596 223.226 95.6103 220.077 90.3621 214.828C85.1139 209.58 81.9647 202.595 81.5072 195.187C81.0497 187.779 83.3154 180.459 87.878 174.605C92.4405 168.751 98.9853 164.766 106.281 163.401C113.576 162.035 121.119 163.383 127.49 167.19L167.19 127.49C165.664 124.941 164.518 122.182 163.79 119.3H141.39C139.721 125.858 135.915 131.673 130.573 135.826C125.231 139.98 118.657 142.234 111.89 142.234C105.123 142.234 98.5494 139.98 93.2071 135.826C87.8648 131.673 84.0587 125.858 82.39 119.3H60C58.1878 126.495 53.8086 132.78 47.6863 136.971C41.5641 141.163 34.1211 142.972 26.7579 142.059C19.3947 141.146 12.6191 137.574 7.70605 132.014C2.79302 126.454 0.0813599 119.29 0.0813599 111.87C0.0813599 104.451 2.79302 97.2871 7.70605 91.7272C12.6191 86.1673 19.3947 82.5947 26.7579 81.6817C34.1211 80.7686 41.5641 82.5781 47.6863 86.7696C53.8086 90.9611 58.1878 97.2456 60 104.44H82.35ZM100.86 204.32C103.407 206.868 106.759 208.453 110.345 208.806C113.93 209.159 117.527 208.258 120.522 206.256C123.517 204.254 125.725 201.276 126.771 197.828C127.816 194.38 127.633 190.677 126.253 187.349C124.874 184.021 122.383 181.274 119.205 179.577C116.027 177.88 112.359 177.337 108.826 178.042C105.293 178.746 102.113 180.654 99.8291 183.44C97.5451 186.226 96.2979 189.718 96.3 193.32C96.2985 195.364 96.7006 197.388 97.4831 199.275C98.2656 201.163 99.4132 202.877 100.86 204.32ZM204.32 122.88C206.868 120.333 208.453 116.981 208.806 113.396C209.159 109.811 208.258 106.214 206.256 103.219C204.254 100.223 201.275 98.0151 197.827 96.97C194.38 95.9249 190.676 96.1077 187.348 97.4873C184.02 98.8669 181.274 101.358 179.577 104.536C177.879 107.714 177.337 111.382 178.041 114.915C178.746 118.448 180.653 121.627 183.439 123.911C186.226 126.195 189.717 127.443 193.32 127.44C195.364 127.443 197.388 127.042 199.275 126.259C201.163 125.476 202.878 124.328 204.32 122.88ZM122.88 19.4205C120.333 16.8729 116.981 15.2876 113.395 14.9347C109.81 14.5817 106.213 15.483 103.218 17.4849C100.223 19.4868 98.0146 22.4654 96.9696 25.9131C95.9245 29.3608 96.1073 33.0642 97.4869 36.3922C98.8665 39.7202 101.358 42.4668 104.535 44.1639C107.713 45.861 111.381 46.4036 114.914 45.6992C118.447 44.9949 121.627 43.0871 123.911 40.301C126.195 37.515 127.442 34.0231 127.44 30.4205C127.44 28.3772 127.038 26.3539 126.255 24.4664C125.473 22.5788 124.326 20.8642 122.88 19.4205ZM19.42 100.86C16.8725 103.408 15.2872 106.76 14.9342 110.345C14.5813 113.93 15.4826 117.527 17.4844 120.522C19.4863 123.518 22.4649 125.726 25.9127 126.771C29.3604 127.816 33.0638 127.633 36.3918 126.254C39.7198 124.874 42.4664 122.383 44.1635 119.205C45.8606 116.027 46.4032 112.359 45.6988 108.826C44.9944 105.293 43.0866 102.114 40.3006 99.8296C37.5145 97.5455 34.0227 96.2983 30.42 96.3005C26.2938 96.3018 22.337 97.9421 19.42 100.86ZM100.86 100.86C98.3125 103.408 96.7272 106.76 96.3742 110.345C96.0213 113.93 96.9226 117.527 98.9244 120.522C100.926 123.518 103.905 125.726 107.353 126.771C110.8 127.816 114.504 127.633 117.832 126.254C121.16 124.874 123.906 122.383 125.604 119.205C127.301 116.027 127.843 112.359 127.139 108.826C126.434 105.293 124.527 102.114 121.741 99.8296C118.955 97.5455 115.463 96.2983 111.86 96.3005C109.817 96.299 107.793 96.701 105.905 97.4835C104.018 98.2661 102.303 99.4136 100.86 100.86Z\" fill=\"#00AEEF\"/>\n",
       "    </g>\n",
       "    <defs>\n",
       "        <clipPath id=\"clip0_4338_178347\">\n",
       "            <rect width=\"566.93\" height=\"223.75\" fill=\"white\"/>\n",
       "        </clipPath>\n",
       "    </defs>\n",
       "  </svg>\n",
       "</div>\n",
       "\n",
       "        <table class=\"jp-RenderedHTMLCommon\" style=\"border-collapse: collapse;color: var(--jp-ui-font-color1);font-size: var(--jp-ui-font-size1);\">\n",
       "    <tr>\n",
       "        <td style=\"text-align: left\"><b>Python version:</b></td>\n",
       "        <td style=\"text-align: left\"><b>3.10.12</b></td>\n",
       "    </tr>\n",
       "    <tr>\n",
       "        <td style=\"text-align: left\"><b>Ray version:</b></td>\n",
       "        <td style=\"text-align: left\"><b>2.9.1</b></td>\n",
       "    </tr>\n",
       "    \n",
       "</table>\n",
       "\n",
       "    </div>\n",
       "</div>\n"
      ],
      "text/plain": [
       "RayContext(dashboard_url='', python_version='3.10.12', ray_version='2.9.1', ray_commit='cfbf98c315cfb2710c56039a3c96477d196de049', protocol_version=None)"
      ]
     },
     "execution_count": 3,
     "metadata": {},
     "output_type": "execute_result"
    }
   ],
   "source": [
    "import ray\n",
    "\n",
    "ray.init(\n",
    "    runtime_env={\n",
    "        \"pip\": [\n",
    "            \"datasets\",\n",
    "            \"evaluate\",\n",
    "            # Latest combination of accelerate==0.19.0 and transformers==4.29.0\n",
    "            # seems to have issues with DeepSpeed process group initialization,\n",
    "            # and will result in a batch_size validation problem.\n",
    "            # TODO(jungong) : get rid of the pins once the issue is fixed.\n",
    "            \"accelerate==0.16.0\",\n",
    "            \"transformers==4.26.0\",\n",
    "            \"torch>=1.12.0\",\n",
    "            \"deepspeed==0.12.3\",\n",
    "        ],\n",
    "    },\n",
    ")"
   ]
  },
  {
   "cell_type": "code",
   "execution_count": 4,
   "id": "01b1894c-14fe-4d02-a2b8-d0e5e653e6fb",
   "metadata": {},
   "outputs": [
    {
     "name": "stdout",
     "output_type": "stream",
     "text": [
      "Loading tiny_shakespeare dataset\n"
     ]
    },
    {
     "data": {
      "text/plain": [
       "DatasetDict({\n",
       "    train: Dataset({\n",
       "        features: ['text'],\n",
       "        num_rows: 1\n",
       "    })\n",
       "    validation: Dataset({\n",
       "        features: ['text'],\n",
       "        num_rows: 1\n",
       "    })\n",
       "    test: Dataset({\n",
       "        features: ['text'],\n",
       "        num_rows: 1\n",
       "    })\n",
       "})"
      ]
     },
     "execution_count": 4,
     "metadata": {},
     "output_type": "execute_result"
    }
   ],
   "source": [
    "from datasets import load_dataset\n",
    "\n",
    "print(\"Loading tiny_shakespeare dataset\")\n",
    "current_dataset = load_dataset(\"tiny_shakespeare\")\n",
    "current_dataset"
   ]
  },
  {
   "cell_type": "code",
   "execution_count": 5,
   "id": "6e5edbca-aad0-4da9-bcb4-df087f6252e4",
   "metadata": {},
   "outputs": [
    {
     "data": {
      "text/plain": [
       "{'train': MaterializedDataset(num_blocks=1, num_rows=1, schema={text: string}),\n",
       " 'validation': MaterializedDataset(num_blocks=1, num_rows=1, schema={text: string})}"
      ]
     },
     "execution_count": 5,
     "metadata": {},
     "output_type": "execute_result"
    }
   ],
   "source": [
    "import ray.data\n",
    "\n",
    "ray_datasets = {\n",
    "    \"train\": ray.data.from_huggingface(current_dataset[\"train\"]),\n",
    "    \"validation\": ray.data.from_huggingface(current_dataset[\"validation\"])\n",
    "}\n",
    "\n",
    "ray_datasets"
   ]
  },
  {
   "cell_type": "code",
   "execution_count": 6,
   "id": "6da6e93a-412e-4d06-8a8d-7fd30c789a0a",
   "metadata": {},
   "outputs": [],
   "source": [
    "block_size = 512"
   ]
  },
  {
   "cell_type": "code",
   "execution_count": 7,
   "id": "a7e2e043-969a-408f-8177-490aacf8aeb5",
   "metadata": {},
   "outputs": [
    {
     "data": {
      "text/plain": [
       "{'train': RandomShuffle\n",
       " +- MapBatches(tokenize)\n",
       "    +- MapBatches(split_text)\n",
       "       +- Dataset(num_blocks=1, num_rows=1, schema={text: string}),\n",
       " 'validation': RandomShuffle\n",
       " +- MapBatches(tokenize)\n",
       "    +- MapBatches(split_text)\n",
       "       +- Dataset(num_blocks=1, num_rows=1, schema={text: string})}"
      ]
     },
     "execution_count": 7,
     "metadata": {},
     "output_type": "execute_result"
    }
   ],
   "source": [
    "from transformers import AutoTokenizer\n",
    "\n",
    "def split_text(batch: pd.DataFrame) -> pd.DataFrame:\n",
    "    text = list(batch[\"text\"])\n",
    "    flat_text = \"\".join(text)\n",
    "    split_text = [\n",
    "        x.strip()\n",
    "        for x in flat_text.split(\"\\n\")\n",
    "        if x.strip() and not x.strip()[-1] == \":\"\n",
    "    ]\n",
    "    return pd.DataFrame(split_text, columns=[\"text\"])\n",
    "\n",
    "\n",
    "def tokenize(batch: pd.DataFrame) -> dict:\n",
    "    tokenizer = AutoTokenizer.from_pretrained(model_name, use_fast=False)\n",
    "    tokenizer.pad_token = tokenizer.eos_token\n",
    "    ret = tokenizer(\n",
    "        list(batch[\"text\"]),\n",
    "        truncation=True,\n",
    "        max_length=block_size,\n",
    "        padding=\"max_length\",\n",
    "        return_tensors=\"np\",\n",
    "    )\n",
    "    ret[\"labels\"] = ret[\"input_ids\"].copy()\n",
    "    return dict(ret)\n",
    "\n",
    "processed_datasets = {\n",
    "    key: ds.map_batches(split_text, batch_format=\"pandas\").map_batches(tokenize, batch_format=\"pandas\").random_shuffle(seed=42)\n",
    "    for key, ds in ray_datasets.items()\n",
    "}\n",
    "processed_datasets"
   ]
  },
  {
   "cell_type": "code",
   "execution_count": 8,
   "id": "63505bf5-146c-4c4f-bb3c-393fa7e77c01",
   "metadata": {},
   "outputs": [],
   "source": [
    "import evaluate\n",
    "import torch\n",
    "from transformers import (\n",
    "    Trainer,\n",
    "    TrainingArguments,\n",
    "    GPTJForCausalLM,\n",
    "    AutoTokenizer,\n",
    "    default_data_collator,\n",
    ")\n",
    "from transformers.utils.logging import disable_progress_bar, enable_progress_bar\n",
    "\n",
    "from ray import train\n",
    "from ray.train.huggingface.transformers import (\n",
    "    prepare_trainer,\n",
    "    RayTrainReportCallback\n",
    ")\n",
    "\n",
    "\n",
    "def train_func(config):\n",
    "    # Use the actual number of CPUs assigned by Ray\n",
    "    os.environ[\"OMP_NUM_THREADS\"] = str(\n",
    "        train.get_context().get_trial_resources().bundles[-1].get(\"CPU\", 1)\n",
    "    )\n",
    "    # Enable tf32 for better performance\n",
    "    torch.backends.cuda.matmul.allow_tf32 = True\n",
    "\n",
    "    batch_size = config.get(\"batch_size\", 4)\n",
    "    epochs = config.get(\"epochs\", 2)\n",
    "    warmup_steps = config.get(\"warmup_steps\", 0)\n",
    "    learning_rate = config.get(\"learning_rate\", 0.00002)\n",
    "    weight_decay = config.get(\"weight_decay\", 0.01)\n",
    "    steps_per_epoch = config.get(\"steps_per_epoch\")\n",
    "\n",
    "    deepspeed = {\n",
    "        \"fp16\": {\n",
    "            \"enabled\": \"auto\",\n",
    "            \"initial_scale_power\": 8,\n",
    "        },\n",
    "        \"bf16\": {\"enabled\": \"auto\"},\n",
    "        \"optimizer\": {\n",
    "            \"type\": \"AdamW\",\n",
    "            \"params\": {\n",
    "                \"lr\": \"auto\",\n",
    "                \"betas\": \"auto\",\n",
    "                \"eps\": \"auto\",\n",
    "            },\n",
    "        },\n",
    "        \"zero_optimization\": {\n",
    "            \"stage\": 3,\n",
    "            \"offload_optimizer\": {\n",
    "                \"device\": \"cpu\",\n",
    "                \"pin_memory\": True,\n",
    "            },\n",
    "            \"offload_param\": {\n",
    "                \"device\": \"cpu\",\n",
    "                \"pin_memory\": True,\n",
    "            },\n",
    "            \"overlap_comm\": True,\n",
    "            \"contiguous_gradients\": True,\n",
    "            \"reduce_bucket_size\": \"auto\",\n",
    "            \"stage3_prefetch_bucket_size\": \"auto\",\n",
    "            \"stage3_param_persistence_threshold\": \"auto\",\n",
    "            \"gather_16bit_weights_on_model_save\": True,\n",
    "            \"round_robin_gradients\": True,\n",
    "        },\n",
    "        \"gradient_accumulation_steps\": \"auto\",\n",
    "        \"gradient_clipping\": \"auto\",\n",
    "        \"steps_per_print\": 10,\n",
    "        \"train_batch_size\": \"auto\",\n",
    "        \"train_micro_batch_size_per_gpu\": \"auto\",\n",
    "        \"wall_clock_breakdown\": False,\n",
    "    }\n",
    "\n",
    "    print(\"Preparing training arguments\")\n",
    "    training_args = TrainingArguments(\n",
    "        \"output\",\n",
    "        logging_steps=1,\n",
    "        save_strategy=\"steps\",\n",
    "        save_steps=steps_per_epoch,\n",
    "        max_steps=steps_per_epoch * epochs,\n",
    "        learning_rate=learning_rate,\n",
    "        weight_decay=weight_decay,\n",
    "        warmup_steps=warmup_steps,\n",
    "        label_names=[\"input_ids\", \"attention_mask\"],\n",
    "        push_to_hub=False,\n",
    "        report_to=\"none\",\n",
    "        disable_tqdm=True,  # declutter the output a little\n",
    "        fp16=True,\n",
    "        gradient_checkpointing=True,\n",
    "        deepspeed=deepspeed,\n",
    "    )\n",
    "    disable_progress_bar()\n",
    "\n",
    "    tokenizer = AutoTokenizer.from_pretrained(model_name)\n",
    "    tokenizer.pad_token = tokenizer.eos_token\n",
    "\n",
    "    print(\"Loading model\")\n",
    "\n",
    "    model = GPTJForCausalLM.from_pretrained(model_name, use_cache=False)\n",
    "    model.resize_token_embeddings(len(tokenizer))\n",
    "\n",
    "    print(\"Model loaded\")\n",
    "\n",
    "    enable_progress_bar()\n",
    "\n",
    "    metric = evaluate.load(\"accuracy\")\n",
    "\n",
    "    train_ds = train.get_dataset_shard(\"train\")\n",
    "    eval_ds = train.get_dataset_shard(\"validation\")\n",
    "\n",
    "    train_ds_iterable = train_ds.iter_torch_batches(batch_size=batch_size)\n",
    "    eval_ds_iterable = eval_ds.iter_torch_batches(batch_size=batch_size)\n",
    "\n",
    "    def compute_metrics(eval_pred):\n",
    "        logits, labels = eval_pred\n",
    "        predictions = np.argmax(logits, axis=-1)\n",
    "        return metric.compute(predictions=predictions, references=labels)\n",
    "\n",
    "    trainer = Trainer(\n",
    "        model=model,\n",
    "        args=training_args,\n",
    "        train_dataset=train_ds_iterable,\n",
    "        eval_dataset=eval_ds_iterable,\n",
    "        compute_metrics=compute_metrics,\n",
    "        tokenizer=tokenizer,\n",
    "        data_collator=default_data_collator,\n",
    "    )\n",
    "\n",
    "    # Add callback to report checkpoints to Ray Train\n",
    "    trainer.add_callback(RayTrainReportCallback())\n",
    "    trainer = prepare_trainer(trainer)\n",
    "    trainer.train()"
   ]
  },
  {
   "cell_type": "code",
   "execution_count": 9,
   "id": "0e8730dd-5631-4539-8ef7-7582af93e716",
   "metadata": {},
   "outputs": [
    {
     "name": "stderr",
     "output_type": "stream",
     "text": [
      "2024-01-24 09:34:11,896\tINFO streaming_executor.py:112 -- Executing DAG InputDataBuffer[Input] -> AllToAllOperator[MapBatches(split_text)->MapBatches(tokenize)->RandomShuffle]\n",
      "2024-01-24 09:34:11,898\tINFO streaming_executor.py:113 -- Execution config: ExecutionOptions(resource_limits=ExecutionResources(cpu=None, gpu=None, object_store_memory=None), exclude_resources=ExecutionResources(cpu=0, gpu=0, object_store_memory=0), locality_with_output=False, preserve_order=False, actor_locality_enabled=True, verbose_progress=False)\n",
      "2024-01-24 09:34:11,901\tINFO streaming_executor.py:115 -- Tip: For detailed progress reporting, run `ray.data.DataContext.get_current().execution_options.verbose_progress = True`\n"
     ]
    },
    {
     "data": {
      "application/vnd.jupyter.widget-view+json": {
       "model_id": "",
       "version_major": 2,
       "version_minor": 0
      },
      "text/plain": [
       "- MapBatches(split_text)->MapBatches(tokenize)->RandomShuffle 1:   0%|          | 0/1 [00:00<?, ?it/s]"
      ]
     },
     "metadata": {},
     "output_type": "display_data"
    },
    {
     "data": {
      "application/vnd.jupyter.widget-view+json": {
       "model_id": "",
       "version_major": 2,
       "version_minor": 0
      },
      "text/plain": [
       "Shuffle Map 2:   0%|          | 0/1 [00:00<?, ?it/s]"
      ]
     },
     "metadata": {},
     "output_type": "display_data"
    },
    {
     "data": {
      "application/vnd.jupyter.widget-view+json": {
       "model_id": "",
       "version_major": 2,
       "version_minor": 0
      },
      "text/plain": [
       "Shuffle Reduce 3:   0%|          | 0/1 [00:00<?, ?it/s]"
      ]
     },
     "metadata": {},
     "output_type": "display_data"
    },
    {
     "data": {
      "application/vnd.jupyter.widget-view+json": {
       "model_id": "",
       "version_major": 2,
       "version_minor": 0
      },
      "text/plain": [
       "Running 0:   0%|          | 0/1 [00:00<?, ?it/s]"
      ]
     },
     "metadata": {},
     "output_type": "display_data"
    }
   ],
   "source": [
    "from ray.train.torch import TorchTrainer\n",
    "from ray.train import RunConfig, ScalingConfig\n",
    "\n",
    "batch_size = 16\n",
    "train_ds_size = processed_datasets[\"train\"].count()\n",
    "steps_per_epoch = train_ds_size // (batch_size * num_workers)\n",
    "\n",
    "trainer = TorchTrainer(\n",
    "    train_loop_per_worker=train_func,\n",
    "    train_loop_config={\n",
    "        \"epochs\": 1,\n",
    "        \"batch_size\": batch_size,  # per device\n",
    "        \"steps_per_epoch\": steps_per_epoch\n",
    "    },\n",
    "    scaling_config=ScalingConfig(\n",
    "        num_workers=num_workers,\n",
    "        use_gpu=use_gpu,\n",
    "        resources_per_worker={\"GPU\": 1, \"CPU\": cpus_per_worker},\n",
    "    ),\n",
    "    datasets=processed_datasets,\n",
    "    run_config=RunConfig(storage_path=\"/models\"),\n",
    ")"
   ]
  },
  {
   "cell_type": "code",
   "execution_count": null,
   "id": "b3eb4896-8676-4869-967f-2c8ffc1243b7",
   "metadata": {},
   "outputs": [
    {
     "data": {
      "text/html": [
       "<div class=\"tuneStatus\">\n",
       "  <div style=\"display: flex;flex-direction: row\">\n",
       "    <div style=\"display: flex;flex-direction: column;\">\n",
       "      <h3>Tune Status</h3>\n",
       "      <table>\n",
       "<tbody>\n",
       "<tr><td>Current time:</td><td>2024-01-24 09:42:44</td></tr>\n",
       "<tr><td>Running for: </td><td>00:08:19.23        </td></tr>\n",
       "<tr><td>Memory:      </td><td>185.0/2015.5 GiB   </td></tr>\n",
       "</tbody>\n",
       "</table>\n",
       "    </div>\n",
       "    <div class=\"vDivider\"></div>\n",
       "    <div class=\"systemInfo\">\n",
       "      <h3>System Info</h3>\n",
       "      Using FIFO scheduling algorithm.<br>Logical resource usage: 9.0/40 CPUs, 2.0/2 GPUs (0.0/1.0 accelerator_type:H100)\n",
       "    </div>\n",
       "    \n",
       "  </div>\n",
       "  <div class=\"hDivider\"></div>\n",
       "  <div class=\"trialStatus\">\n",
       "    <h3>Trial Status</h3>\n",
       "    <table>\n",
       "<thead>\n",
       "<tr><th>Trial name              </th><th>status  </th><th>loc                </th></tr>\n",
       "</thead>\n",
       "<tbody>\n",
       "<tr><td>TorchTrainer_c3062_00000</td><td>RUNNING </td><td>192.168.64.2:266117</td></tr>\n",
       "</tbody>\n",
       "</table>\n",
       "  </div>\n",
       "</div>\n",
       "<style>\n",
       ".tuneStatus {\n",
       "  color: var(--jp-ui-font-color1);\n",
       "}\n",
       ".tuneStatus .systemInfo {\n",
       "  display: flex;\n",
       "  flex-direction: column;\n",
       "}\n",
       ".tuneStatus td {\n",
       "  white-space: nowrap;\n",
       "}\n",
       ".tuneStatus .trialStatus {\n",
       "  display: flex;\n",
       "  flex-direction: column;\n",
       "}\n",
       ".tuneStatus h3 {\n",
       "  font-weight: bold;\n",
       "}\n",
       ".tuneStatus .hDivider {\n",
       "  border-bottom-width: var(--jp-border-width);\n",
       "  border-bottom-color: var(--jp-border-color0);\n",
       "  border-bottom-style: solid;\n",
       "}\n",
       ".tuneStatus .vDivider {\n",
       "  border-left-width: var(--jp-border-width);\n",
       "  border-left-color: var(--jp-border-color0);\n",
       "  border-left-style: solid;\n",
       "  margin: 0.5em 1em 0.5em 1em;\n",
       "}\n",
       "</style>\n"
      ],
      "text/plain": [
       "<IPython.core.display.HTML object>"
      ]
     },
     "metadata": {},
     "output_type": "display_data"
    },
    {
     "name": "stdout",
     "output_type": "stream",
     "text": [
      "\u001b[36m(TrainTrainable pid=266117)\u001b[0m [2024-01-24 09:34:31,353] [INFO] [real_accelerator.py:158:get_accelerator] Setting ds_accelerator to cuda (auto detect)\n"
     ]
    },
    {
     "name": "stderr",
     "output_type": "stream",
     "text": [
      "\u001b[36m(RayTrainWorker pid=266237)\u001b[0m Setting up process group for: env:// [rank=0, world_size=2]\n",
      "\u001b[36m(TorchTrainer pid=266117)\u001b[0m Started distributed worker processes: \n",
      "\u001b[36m(TorchTrainer pid=266117)\u001b[0m - (ip=192.168.64.2, pid=266237) world_rank=0, local_rank=0, node_rank=0\n",
      "\u001b[36m(TorchTrainer pid=266117)\u001b[0m - (ip=192.168.64.2, pid=266238) world_rank=1, local_rank=1, node_rank=0\n"
     ]
    },
    {
     "name": "stdout",
     "output_type": "stream",
     "text": [
      "\u001b[36m(RayTrainWorker pid=266237)\u001b[0m [2024-01-24 09:34:40,446] [INFO] [real_accelerator.py:158:get_accelerator] Setting ds_accelerator to cuda (auto detect)\n",
      "\u001b[36m(RayTrainWorker pid=266238)\u001b[0m [2024-01-24 09:34:40,440] [INFO] [real_accelerator.py:158:get_accelerator] Setting ds_accelerator to cuda (auto detect)\n"
     ]
    },
    {
     "name": "stderr",
     "output_type": "stream",
     "text": [
      "\u001b[36m(SplitCoordinator pid=266453)\u001b[0m Auto configuring locality_with_output=['f04480c4dea75141f1a311fae660b2c4899ab20f4cce2c91bfa4affb', 'f04480c4dea75141f1a311fae660b2c4899ab20f4cce2c91bfa4affb']\n"
     ]
    },
    {
     "name": "stdout",
     "output_type": "stream",
     "text": [
      "\u001b[36m(RayTrainWorker pid=266237)\u001b[0m Preparing training arguments\n",
      "\u001b[36m(RayTrainWorker pid=266237)\u001b[0m [2024-01-24 09:34:41,633] [INFO] [comm.py:637:init_distributed] cdb=None\n",
      "\u001b[36m(RayTrainWorker pid=266237)\u001b[0m Loading model\n",
      "\u001b[36m(RayTrainWorker pid=266237)\u001b[0m [2024-01-24 09:35:04,380] [INFO] [partition_parameters.py:348:__exit__] finished initializing model - num_params = 285, num_elems = 6.05B\n",
      "\u001b[36m(RayTrainWorker pid=266238)\u001b[0m Preparing training arguments\n",
      "\u001b[36m(RayTrainWorker pid=266238)\u001b[0m [2024-01-24 09:34:41,632] [INFO] [comm.py:637:init_distributed] cdb=None\n",
      "\u001b[36m(RayTrainWorker pid=266238)\u001b[0m Loading model\n",
      "\u001b[36m(RayTrainWorker pid=266237)\u001b[0m Model loaded\n",
      "\u001b[36m(RayTrainWorker pid=266237)\u001b[0m [2024-01-24 09:35:27,260] [INFO] [logging.py:96:log_dist] [Rank 0] DeepSpeed info: version=0.12.3, git-hash=unknown, git-branch=unknown\n",
      "\u001b[36m(RayTrainWorker pid=266237)\u001b[0m [2024-01-24 09:35:27,280] [INFO] [logging.py:96:log_dist] [Rank 0] DeepSpeed Flops Profiler Enabled: False\n"
     ]
    },
    {
     "name": "stderr",
     "output_type": "stream",
     "text": [
      "\u001b[36m(RayTrainWorker pid=266237)\u001b[0m max_steps is given, it will override any value given in num_train_epochs\n",
      "\u001b[36m(RayTrainWorker pid=266237)\u001b[0m Using cuda_amp half precision backend\n",
      "\u001b[36m(SplitCoordinator pid=266454)\u001b[0m Auto configuring locality_with_output=['f04480c4dea75141f1a311fae660b2c4899ab20f4cce2c91bfa4affb', 'f04480c4dea75141f1a311fae660b2c4899ab20f4cce2c91bfa4affb']\n",
      "\u001b[36m(RayTrainWorker pid=266237)\u001b[0m Using /root/.cache/torch_extensions/py310_cu118 as PyTorch extensions root...\n",
      "\u001b[36m(RayTrainWorker pid=266237)\u001b[0m Creating extension directory /root/.cache/torch_extensions/py310_cu118/cpu_adam...\n",
      "\u001b[36m(RayTrainWorker pid=266237)\u001b[0m Detected CUDA files, patching ldflags\n",
      "\u001b[36m(RayTrainWorker pid=266237)\u001b[0m Emitting ninja build file /root/.cache/torch_extensions/py310_cu118/cpu_adam/build.ninja...\n",
      "\u001b[36m(RayTrainWorker pid=266237)\u001b[0m Building extension module cpu_adam...\n",
      "\u001b[36m(RayTrainWorker pid=266237)\u001b[0m Allowing ninja to set a default number of workers... (overridable by setting the environment variable MAX_JOBS=N)\n"
     ]
    },
    {
     "name": "stdout",
     "output_type": "stream",
     "text": [
      "\u001b[36m(RayTrainWorker pid=266237)\u001b[0m [1/4] /usr/local/cuda/bin/nvcc  -DTORCH_EXTENSION_NAME=cpu_adam -DTORCH_API_INCLUDE_EXTENSION_H -DPYBIND11_COMPILER_TYPE=\\\"_gcc\\\" -DPYBIND11_STDLIB=\\\"_libstdcpp\\\" -DPYBIND11_BUILD_ABI=\\\"_cxxabi1011\\\" -I/usr/local/lib/python3.10/dist-packages/deepspeed/ops/csrc/includes -I/usr/local/cuda/include -isystem /usr/local/lib/python3.10/dist-packages/torch/include -isystem /usr/local/lib/python3.10/dist-packages/torch/include/torch/csrc/api/include -isystem /usr/local/lib/python3.10/dist-packages/torch/include/TH -isystem /usr/local/lib/python3.10/dist-packages/torch/include/THC -isystem /usr/local/cuda/include -isystem /usr/include/python3.10 -D_GLIBCXX_USE_CXX11_ABI=0 -D__CUDA_NO_HALF_OPERATORS__ -D__CUDA_NO_HALF_CONVERSIONS__ -D__CUDA_NO_BFLOAT16_CONVERSIONS__ -D__CUDA_NO_HALF2_OPERATORS__ --expt-relaxed-constexpr -gencode=arch=compute_90,code=compute_90 -gencode=arch=compute_90,code=sm_90 --compiler-options '-fPIC' -O3 --use_fast_math -std=c++17 -U__CUDA_NO_HALF_OPERATORS__ -U__CUDA_NO_HALF_CONVERSIONS__ -U__CUDA_NO_HALF2_OPERATORS__ -gencode=arch=compute_90,code=sm_90 -gencode=arch=compute_90,code=compute_90 -DBF16_AVAILABLE -U__CUDA_NO_BFLOAT16_OPERATORS__ -U__CUDA_NO_BFLOAT162_OPERATORS__ -c /usr/local/lib/python3.10/dist-packages/deepspeed/ops/csrc/common/custom_cuda_kernel.cu -o custom_cuda_kernel.cuda.o \n",
      "\u001b[36m(RayTrainWorker pid=266238)\u001b[0m Model loaded\n",
      "\u001b[36m(RayTrainWorker pid=266237)\u001b[0m [2/4] c++ -MMD -MF cpu_adam.o.d -DTORCH_EXTENSION_NAME=cpu_adam -DTORCH_API_INCLUDE_EXTENSION_H -DPYBIND11_COMPILER_TYPE=\\\"_gcc\\\" -DPYBIND11_STDLIB=\\\"_libstdcpp\\\" -DPYBIND11_BUILD_ABI=\\\"_cxxabi1011\\\" -I/usr/local/lib/python3.10/dist-packages/deepspeed/ops/csrc/includes -I/usr/local/cuda/include -isystem /usr/local/lib/python3.10/dist-packages/torch/include -isystem /usr/local/lib/python3.10/dist-packages/torch/include/torch/csrc/api/include -isystem /usr/local/lib/python3.10/dist-packages/torch/include/TH -isystem /usr/local/lib/python3.10/dist-packages/torch/include/THC -isystem /usr/local/cuda/include -isystem /usr/include/python3.10 -D_GLIBCXX_USE_CXX11_ABI=0 -fPIC -std=c++17 -O3 -std=c++17 -g -Wno-reorder -L/usr/local/cuda/lib64 -lcudart -lcublas -g -march=native -fopenmp -D__AVX512__ -D__ENABLE_CUDA__ -DBF16_AVAILABLE -c /usr/local/lib/python3.10/dist-packages/deepspeed/ops/csrc/adam/cpu_adam.cpp -o cpu_adam.o \n",
      "\u001b[36m(RayTrainWorker pid=266237)\u001b[0m [3/4] c++ -MMD -MF cpu_adam_impl.o.d -DTORCH_EXTENSION_NAME=cpu_adam -DTORCH_API_INCLUDE_EXTENSION_H -DPYBIND11_COMPILER_TYPE=\\\"_gcc\\\" -DPYBIND11_STDLIB=\\\"_libstdcpp\\\" -DPYBIND11_BUILD_ABI=\\\"_cxxabi1011\\\" -I/usr/local/lib/python3.10/dist-packages/deepspeed/ops/csrc/includes -I/usr/local/cuda/include -isystem /usr/local/lib/python3.10/dist-packages/torch/include -isystem /usr/local/lib/python3.10/dist-packages/torch/include/torch/csrc/api/include -isystem /usr/local/lib/python3.10/dist-packages/torch/include/TH -isystem /usr/local/lib/python3.10/dist-packages/torch/include/THC -isystem /usr/local/cuda/include -isystem /usr/include/python3.10 -D_GLIBCXX_USE_CXX11_ABI=0 -fPIC -std=c++17 -O3 -std=c++17 -g -Wno-reorder -L/usr/local/cuda/lib64 -lcudart -lcublas -g -march=native -fopenmp -D__AVX512__ -D__ENABLE_CUDA__ -DBF16_AVAILABLE -c /usr/local/lib/python3.10/dist-packages/deepspeed/ops/csrc/adam/cpu_adam_impl.cpp -o cpu_adam_impl.o \n",
      "\u001b[36m(RayTrainWorker pid=266237)\u001b[0m [4/4] c++ cpu_adam.o cpu_adam_impl.o custom_cuda_kernel.cuda.o -shared -lcurand -L/usr/local/lib/python3.10/dist-packages/torch/lib -lc10 -lc10_cuda -ltorch_cpu -ltorch_cuda -ltorch -ltorch_python -L/usr/local/cuda/lib64 -lcudart -o cpu_adam.so\n",
      "\u001b[36m(RayTrainWorker pid=266237)\u001b[0m Time to load cpu_adam op: 26.282186269760132 seconds\n"
     ]
    },
    {
     "name": "stderr",
     "output_type": "stream",
     "text": [
      "\u001b[36m(RayTrainWorker pid=266237)\u001b[0m Loading extension module cpu_adam...\n",
      "\u001b[36m(RayTrainWorker pid=266238)\u001b[0m Using /root/.cache/torch_extensions/py310_cu118 as PyTorch extensions root...\n"
     ]
    },
    {
     "name": "stdout",
     "output_type": "stream",
     "text": [
      "\u001b[36m(RayTrainWorker pid=266237)\u001b[0m [2024-01-24 09:35:56,356] [INFO] [logging.py:96:log_dist] [Rank 0] Using DeepSpeed Optimizer param name adamw as basic optimizer\n",
      "\u001b[36m(RayTrainWorker pid=266237)\u001b[0m [2024-01-24 09:35:56,356] [INFO] [logging.py:96:log_dist] [Rank 0] Removing param_group that has no 'params' in the basic Optimizer\n",
      "\u001b[36m(RayTrainWorker pid=266237)\u001b[0m [2024-01-24 09:35:56,386] [INFO] [logging.py:96:log_dist] [Rank 0] DeepSpeed Basic Optimizer = DeepSpeedCPUAdam\n",
      "\u001b[36m(RayTrainWorker pid=266237)\u001b[0m [2024-01-24 09:35:56,386] [INFO] [utils.py:56:is_zero_supported_optimizer] Checking ZeRO support for optimizer=DeepSpeedCPUAdam type=<class 'deepspeed.ops.adam.cpu_adam.DeepSpeedCPUAdam'>\n",
      "\u001b[36m(RayTrainWorker pid=266237)\u001b[0m [2024-01-24 09:35:56,386] [INFO] [logging.py:96:log_dist] [Rank 0] Creating fp16 ZeRO stage 3 optimizer, MiCS is enabled False, Hierarchical params gather False\n",
      "\u001b[36m(RayTrainWorker pid=266237)\u001b[0m [2024-01-24 09:35:56,386] [INFO] [logging.py:96:log_dist] [Rank 0] Creating torch.float16 ZeRO stage 3 optimizer\n",
      "\u001b[36m(RayTrainWorker pid=266237)\u001b[0m [2024-01-24 09:35:56,633] [INFO] [utils.py:802:see_memory_usage] Stage 3 initialize beginning\n",
      "\u001b[36m(RayTrainWorker pid=266237)\u001b[0m [2024-01-24 09:35:56,634] [INFO] [utils.py:803:see_memory_usage] MA 0.11 GB         Max_MA 1.26 GB         CA 1.54 GB         Max_CA 2 GB \n",
      "\u001b[36m(RayTrainWorker pid=266237)\u001b[0m [2024-01-24 09:35:56,634] [INFO] [utils.py:810:see_memory_usage] CPU Virtual Memory:  used = 57.71 GB, percent = 2.9%\n",
      "\u001b[36m(RayTrainWorker pid=266237)\u001b[0m [2024-01-24 09:35:56,637] [INFO] [stage3.py:127:__init__] Reduce bucket size 16777216\n",
      "\u001b[36m(RayTrainWorker pid=266237)\u001b[0m [2024-01-24 09:35:56,637] [INFO] [stage3.py:128:__init__] Prefetch bucket size 15099494\n",
      "\u001b[36m(RayTrainWorker pid=266237)\u001b[0m [2024-01-24 09:35:56,808] [INFO] [utils.py:802:see_memory_usage] DeepSpeedZeRoOffload initialize [begin]\n",
      "\u001b[36m(RayTrainWorker pid=266237)\u001b[0m [2024-01-24 09:35:56,809] [INFO] [utils.py:803:see_memory_usage] MA 0.11 GB         Max_MA 0.11 GB         CA 1.54 GB         Max_CA 2 GB \n",
      "\u001b[36m(RayTrainWorker pid=266237)\u001b[0m [2024-01-24 09:35:56,809] [INFO] [utils.py:810:see_memory_usage] CPU Virtual Memory:  used = 57.71 GB, percent = 2.9%\n",
      "\u001b[36m(RayTrainWorker pid=266237)\u001b[0m Parameter Offload: Total persistent parameters: 811008 in 114 params\n",
      "\u001b[36m(RayTrainWorker pid=266237)\u001b[0m [2024-01-24 09:35:57,007] [INFO] [utils.py:802:see_memory_usage] DeepSpeedZeRoOffload initialize [end]\n",
      "\u001b[36m(RayTrainWorker pid=266237)\u001b[0m [2024-01-24 09:35:57,009] [INFO] [utils.py:803:see_memory_usage] MA 0.11 GB         Max_MA 0.11 GB         CA 1.54 GB         Max_CA 2 GB \n",
      "\u001b[36m(RayTrainWorker pid=266237)\u001b[0m [2024-01-24 09:35:57,009] [INFO] [utils.py:810:see_memory_usage] CPU Virtual Memory:  used = 57.77 GB, percent = 2.9%\n",
      "\u001b[36m(RayTrainWorker pid=266237)\u001b[0m [2024-01-24 09:35:57,184] [INFO] [utils.py:802:see_memory_usage] Before creating fp16 partitions\n",
      "\u001b[36m(RayTrainWorker pid=266237)\u001b[0m [2024-01-24 09:35:57,186] [INFO] [utils.py:803:see_memory_usage] MA 0.11 GB         Max_MA 0.11 GB         CA 1.54 GB         Max_CA 2 GB \n",
      "\u001b[36m(RayTrainWorker pid=266237)\u001b[0m [2024-01-24 09:35:57,186] [INFO] [utils.py:810:see_memory_usage] CPU Virtual Memory:  used = 57.71 GB, percent = 2.9%\n",
      "\u001b[36m(RayTrainWorker pid=266237)\u001b[0m [2024-01-24 09:36:01,688] [INFO] [utils.py:802:see_memory_usage] After creating fp16 partitions: 4\n",
      "\u001b[36m(RayTrainWorker pid=266237)\u001b[0m [2024-01-24 09:36:01,689] [INFO] [utils.py:803:see_memory_usage] MA 0.11 GB         Max_MA 0.11 GB         CA 1.54 GB         Max_CA 2 GB \n",
      "\u001b[36m(RayTrainWorker pid=266237)\u001b[0m [2024-01-24 09:36:01,689] [INFO] [utils.py:810:see_memory_usage] CPU Virtual Memory:  used = 74.03 GB, percent = 3.7%\n",
      "\u001b[36m(RayTrainWorker pid=266237)\u001b[0m [2024-01-24 09:36:01,769] [INFO] [utils.py:802:see_memory_usage] Before creating fp32 partitions\n",
      "\u001b[36m(RayTrainWorker pid=266237)\u001b[0m [2024-01-24 09:36:01,770] [INFO] [utils.py:803:see_memory_usage] MA 0.11 GB         Max_MA 0.11 GB         CA 1.54 GB         Max_CA 2 GB \n",
      "\u001b[36m(RayTrainWorker pid=266237)\u001b[0m [2024-01-24 09:36:01,770] [INFO] [utils.py:810:see_memory_usage] CPU Virtual Memory:  used = 74.03 GB, percent = 3.7%\n",
      "\u001b[36m(RayTrainWorker pid=266238)\u001b[0m Time to load cpu_adam op: 26.188262939453125 seconds\n",
      "\u001b[36m(RayTrainWorker pid=266237)\u001b[0m [2024-01-24 09:36:04,442] [INFO] [utils.py:802:see_memory_usage] After creating fp32 partitions\n",
      "\u001b[36m(RayTrainWorker pid=266237)\u001b[0m [2024-01-24 09:36:04,443] [INFO] [utils.py:803:see_memory_usage] MA 0.11 GB         Max_MA 0.11 GB         CA 1.54 GB         Max_CA 2 GB \n",
      "\u001b[36m(RayTrainWorker pid=266237)\u001b[0m [2024-01-24 09:36:04,443] [INFO] [utils.py:810:see_memory_usage] CPU Virtual Memory:  used = 94.7 GB, percent = 4.7%\n",
      "\u001b[36m(RayTrainWorker pid=266237)\u001b[0m [2024-01-24 09:36:05,136] [INFO] [utils.py:802:see_memory_usage] Before initializing optimizer states\n",
      "\u001b[36m(RayTrainWorker pid=266237)\u001b[0m [2024-01-24 09:36:05,137] [INFO] [utils.py:803:see_memory_usage] MA 0.11 GB         Max_MA 0.11 GB         CA 1.54 GB         Max_CA 2 GB \n",
      "\u001b[36m(RayTrainWorker pid=266237)\u001b[0m [2024-01-24 09:36:05,137] [INFO] [utils.py:810:see_memory_usage] CPU Virtual Memory:  used = 97.32 GB, percent = 4.8%\n",
      "\u001b[36m(RayTrainWorker pid=266237)\u001b[0m [2024-01-24 09:36:15,338] [INFO] [utils.py:802:see_memory_usage] After initializing optimizer states\n",
      "\u001b[36m(RayTrainWorker pid=266237)\u001b[0m [2024-01-24 09:36:15,339] [INFO] [utils.py:803:see_memory_usage] MA 0.11 GB         Max_MA 0.11 GB         CA 1.54 GB         Max_CA 2 GB \n",
      "\u001b[36m(RayTrainWorker pid=266237)\u001b[0m [2024-01-24 09:36:15,339] [INFO] [utils.py:810:see_memory_usage] CPU Virtual Memory:  used = 168.46 GB, percent = 8.4%\n",
      "\u001b[36m(RayTrainWorker pid=266237)\u001b[0m [2024-01-24 09:36:15,411] [INFO] [stage3.py:479:_setup_for_real_optimizer] optimizer state initialized\n",
      "\u001b[36m(RayTrainWorker pid=266237)\u001b[0m [2024-01-24 09:36:19,650] [INFO] [utils.py:802:see_memory_usage] After initializing ZeRO optimizer\n",
      "\u001b[36m(RayTrainWorker pid=266237)\u001b[0m [2024-01-24 09:36:19,651] [INFO] [utils.py:803:see_memory_usage] MA 0.14 GB         Max_MA 0.91 GB         CA 1.54 GB         Max_CA 2 GB \n",
      "\u001b[36m(RayTrainWorker pid=266237)\u001b[0m [2024-01-24 09:36:19,651] [INFO] [utils.py:810:see_memory_usage] CPU Virtual Memory:  used = 182.57 GB, percent = 9.1%\n",
      "\u001b[36m(RayTrainWorker pid=266237)\u001b[0m [2024-01-24 09:36:19,651] [INFO] [logging.py:96:log_dist] [Rank 0] DeepSpeed Final Optimizer = adamw\n",
      "\u001b[36m(RayTrainWorker pid=266237)\u001b[0m [2024-01-24 09:36:19,651] [INFO] [logging.py:96:log_dist] [Rank 0] DeepSpeed using client callable to create LR scheduler\n",
      "\u001b[36m(RayTrainWorker pid=266237)\u001b[0m [2024-01-24 09:36:19,651] [INFO] [logging.py:96:log_dist] [Rank 0] DeepSpeed LR Scheduler = <torch.optim.lr_scheduler.LambdaLR object at 0x7f79cad16e60>\n",
      "\u001b[36m(RayTrainWorker pid=266237)\u001b[0m [2024-01-24 09:36:19,652] [INFO] [logging.py:96:log_dist] [Rank 0] step=0, skipped=0, lr=[2e-05], mom=[[0.9, 0.999]]\n",
      "\u001b[36m(RayTrainWorker pid=266237)\u001b[0m [2024-01-24 09:36:19,653] [INFO] [config.py:974:print] DeepSpeedEngine configuration:\n",
      "\u001b[36m(RayTrainWorker pid=266237)\u001b[0m [2024-01-24 09:36:19,653] [INFO] [config.py:978:print]   activation_checkpointing_config  {\n",
      "\u001b[36m(RayTrainWorker pid=266237)\u001b[0m     \"partition_activations\": false, \n",
      "\u001b[36m(RayTrainWorker pid=266237)\u001b[0m     \"contiguous_memory_optimization\": false, \n",
      "\u001b[36m(RayTrainWorker pid=266237)\u001b[0m     \"cpu_checkpointing\": false, \n",
      "\u001b[36m(RayTrainWorker pid=266237)\u001b[0m     \"number_checkpoints\": null, \n",
      "\u001b[36m(RayTrainWorker pid=266237)\u001b[0m     \"synchronize_checkpoint_boundary\": false, \n",
      "\u001b[36m(RayTrainWorker pid=266237)\u001b[0m     \"profile\": false\n",
      "\u001b[36m(RayTrainWorker pid=266237)\u001b[0m }\n",
      "\u001b[36m(RayTrainWorker pid=266237)\u001b[0m [2024-01-24 09:36:19,653] [INFO] [config.py:978:print]   aio_config ................... {'block_size': 1048576, 'queue_depth': 8, 'thread_count': 1, 'single_submit': False, 'overlap_events': True}\n",
      "\u001b[36m(RayTrainWorker pid=266237)\u001b[0m [2024-01-24 09:36:19,653] [INFO] [config.py:978:print]   amp_enabled .................. False\n",
      "\u001b[36m(RayTrainWorker pid=266237)\u001b[0m [2024-01-24 09:36:19,653] [INFO] [config.py:978:print]   amp_params ................... False\n",
      "\u001b[36m(RayTrainWorker pid=266237)\u001b[0m [2024-01-24 09:36:19,654] [INFO] [config.py:978:print]   autotuning_config ............ {\n",
      "\u001b[36m(RayTrainWorker pid=266237)\u001b[0m     \"enabled\": false, \n",
      "\u001b[36m(RayTrainWorker pid=266237)\u001b[0m     \"start_step\": null, \n",
      "\u001b[36m(RayTrainWorker pid=266237)\u001b[0m     \"end_step\": null, \n",
      "\u001b[36m(RayTrainWorker pid=266237)\u001b[0m     \"metric_path\": null, \n",
      "\u001b[36m(RayTrainWorker pid=266237)\u001b[0m     \"arg_mappings\": null, \n",
      "\u001b[36m(RayTrainWorker pid=266237)\u001b[0m     \"metric\": \"throughput\", \n",
      "\u001b[36m(RayTrainWorker pid=266237)\u001b[0m     \"model_info\": null, \n",
      "\u001b[36m(RayTrainWorker pid=266237)\u001b[0m     \"results_dir\": \"autotuning_results\", \n",
      "\u001b[36m(RayTrainWorker pid=266237)\u001b[0m     \"exps_dir\": \"autotuning_exps\", \n",
      "\u001b[36m(RayTrainWorker pid=266237)\u001b[0m     \"overwrite\": true, \n",
      "\u001b[36m(RayTrainWorker pid=266237)\u001b[0m     \"fast\": true, \n",
      "\u001b[36m(RayTrainWorker pid=266237)\u001b[0m     \"start_profile_step\": 3, \n",
      "\u001b[36m(RayTrainWorker pid=266237)\u001b[0m     \"end_profile_step\": 5, \n",
      "\u001b[36m(RayTrainWorker pid=266237)\u001b[0m     \"tuner_type\": \"gridsearch\", \n",
      "\u001b[36m(RayTrainWorker pid=266237)\u001b[0m     \"tuner_early_stopping\": 5, \n",
      "\u001b[36m(RayTrainWorker pid=266237)\u001b[0m     \"tuner_num_trials\": 50, \n",
      "\u001b[36m(RayTrainWorker pid=266237)\u001b[0m     \"model_info_path\": null, \n",
      "\u001b[36m(RayTrainWorker pid=266237)\u001b[0m     \"mp_size\": 1, \n",
      "\u001b[36m(RayTrainWorker pid=266237)\u001b[0m     \"max_train_batch_size\": null, \n",
      "\u001b[36m(RayTrainWorker pid=266237)\u001b[0m     \"min_train_batch_size\": 1, \n",
      "\u001b[36m(RayTrainWorker pid=266237)\u001b[0m     \"max_train_micro_batch_size_per_gpu\": 1.024000e+03, \n",
      "\u001b[36m(RayTrainWorker pid=266237)\u001b[0m     \"min_train_micro_batch_size_per_gpu\": 1, \n",
      "\u001b[36m(RayTrainWorker pid=266237)\u001b[0m     \"num_tuning_micro_batch_sizes\": 3\n",
      "\u001b[36m(RayTrainWorker pid=266237)\u001b[0m }\n",
      "\u001b[36m(RayTrainWorker pid=266237)\u001b[0m [2024-01-24 09:36:19,654] [INFO] [config.py:978:print]   bfloat16_enabled ............. False\n",
      "\u001b[36m(RayTrainWorker pid=266237)\u001b[0m [2024-01-24 09:36:19,654] [INFO] [config.py:978:print]   checkpoint_parallel_write_pipeline  False\n",
      "\u001b[36m(RayTrainWorker pid=266237)\u001b[0m [2024-01-24 09:36:19,654] [INFO] [config.py:978:print]   checkpoint_tag_validation_enabled  True\n",
      "\u001b[36m(RayTrainWorker pid=266237)\u001b[0m [2024-01-24 09:36:19,654] [INFO] [config.py:978:print]   checkpoint_tag_validation_fail  False\n",
      "\u001b[36m(RayTrainWorker pid=266237)\u001b[0m [2024-01-24 09:36:19,654] [INFO] [config.py:978:print]   comms_config ................. <deepspeed.comm.config.DeepSpeedCommsConfig object at 0x7f79cbdf6050>\n",
      "\u001b[36m(RayTrainWorker pid=266237)\u001b[0m [2024-01-24 09:36:19,654] [INFO] [config.py:978:print]   communication_data_type ...... None\n",
      "\u001b[36m(RayTrainWorker pid=266237)\u001b[0m [2024-01-24 09:36:19,654] [INFO] [config.py:978:print]   compression_config ........... {'weight_quantization': {'shared_parameters': {'enabled': False, 'quantizer_kernel': False, 'schedule_offset': 0, 'quantize_groups': 1, 'quantize_verbose': False, 'quantization_type': 'symmetric', 'quantize_weight_in_forward': False, 'rounding': 'nearest', 'fp16_mixed_quantize': False, 'quantize_change_ratio': 0.001}, 'different_groups': {}}, 'activation_quantization': {'shared_parameters': {'enabled': False, 'quantization_type': 'symmetric', 'range_calibration': 'dynamic', 'schedule_offset': 1000}, 'different_groups': {}}, 'sparse_pruning': {'shared_parameters': {'enabled': False, 'method': 'l1', 'schedule_offset': 1000}, 'different_groups': {}}, 'row_pruning': {'shared_parameters': {'enabled': False, 'method': 'l1', 'schedule_offset': 1000}, 'different_groups': {}}, 'head_pruning': {'shared_parameters': {'enabled': False, 'method': 'topk', 'schedule_offset': 1000}, 'different_groups': {}}, 'channel_pruning': {'shared_parameters': {'enabled': False, 'method': 'l1', 'schedule_offset': 1000}, 'different_groups': {}}, 'layer_reduction': {'enabled': False}}\n",
      "\u001b[36m(RayTrainWorker pid=266237)\u001b[0m [2024-01-24 09:36:19,654] [INFO] [config.py:978:print]   curriculum_enabled_legacy .... False\n",
      "\u001b[36m(RayTrainWorker pid=266237)\u001b[0m [2024-01-24 09:36:19,654] [INFO] [config.py:978:print]   curriculum_params_legacy ..... False\n",
      "\u001b[36m(RayTrainWorker pid=266237)\u001b[0m [2024-01-24 09:36:19,654] [INFO] [config.py:978:print]   data_efficiency_config ....... {'enabled': False, 'seed': 1234, 'data_sampling': {'enabled': False, 'num_epochs': 1000, 'num_workers': 0, 'curriculum_learning': {'enabled': False}}, 'data_routing': {'enabled': False, 'random_ltd': {'enabled': False, 'layer_token_lr_schedule': {'enabled': False}}}}\n",
      "\u001b[36m(RayTrainWorker pid=266237)\u001b[0m [2024-01-24 09:36:19,654] [INFO] [config.py:978:print]   data_efficiency_enabled ...... False\n",
      "\u001b[36m(RayTrainWorker pid=266237)\u001b[0m [2024-01-24 09:36:19,654] [INFO] [config.py:978:print]   dataloader_drop_last ......... False\n",
      "\u001b[36m(RayTrainWorker pid=266237)\u001b[0m [2024-01-24 09:36:19,654] [INFO] [config.py:978:print]   disable_allgather ............ False\n",
      "\u001b[36m(RayTrainWorker pid=266237)\u001b[0m [2024-01-24 09:36:19,654] [INFO] [config.py:978:print]   dump_state ................... False\n",
      "\u001b[36m(RayTrainWorker pid=266237)\u001b[0m [2024-01-24 09:36:19,654] [INFO] [config.py:978:print]   dynamic_loss_scale_args ...... {'init_scale': 256, 'scale_window': 1000, 'delayed_shift': 2, 'consecutive_hysteresis': False, 'min_scale': 1}\n",
      "\u001b[36m(RayTrainWorker pid=266237)\u001b[0m [2024-01-24 09:36:19,654] [INFO] [config.py:978:print]   eigenvalue_enabled ........... False\n",
      "\u001b[36m(RayTrainWorker pid=266237)\u001b[0m [2024-01-24 09:36:19,654] [INFO] [config.py:978:print]   eigenvalue_gas_boundary_resolution  1\n",
      "\u001b[36m(RayTrainWorker pid=266237)\u001b[0m [2024-01-24 09:36:19,654] [INFO] [config.py:978:print]   eigenvalue_layer_name ........ bert.encoder.layer\n",
      "\u001b[36m(RayTrainWorker pid=266237)\u001b[0m [2024-01-24 09:36:19,654] [INFO] [config.py:978:print]   eigenvalue_layer_num ......... 0\n",
      "\u001b[36m(RayTrainWorker pid=266237)\u001b[0m [2024-01-24 09:36:19,654] [INFO] [config.py:978:print]   eigenvalue_max_iter .......... 100\n",
      "\u001b[36m(RayTrainWorker pid=266237)\u001b[0m [2024-01-24 09:36:19,654] [INFO] [config.py:978:print]   eigenvalue_stability ......... 1e-06\n",
      "\u001b[36m(RayTrainWorker pid=266237)\u001b[0m [2024-01-24 09:36:19,654] [INFO] [config.py:978:print]   eigenvalue_tol ............... 0.01\n",
      "\u001b[36m(RayTrainWorker pid=266237)\u001b[0m [2024-01-24 09:36:19,654] [INFO] [config.py:978:print]   eigenvalue_verbose ........... False\n",
      "\u001b[36m(RayTrainWorker pid=266237)\u001b[0m [2024-01-24 09:36:19,654] [INFO] [config.py:978:print]   elasticity_enabled ........... False\n",
      "\u001b[36m(RayTrainWorker pid=266237)\u001b[0m [2024-01-24 09:36:19,654] [INFO] [config.py:978:print]   flops_profiler_config ........ {\n",
      "\u001b[36m(RayTrainWorker pid=266237)\u001b[0m     \"enabled\": false, \n",
      "\u001b[36m(RayTrainWorker pid=266237)\u001b[0m     \"recompute_fwd_factor\": 0.0, \n",
      "\u001b[36m(RayTrainWorker pid=266237)\u001b[0m     \"profile_step\": 1, \n",
      "\u001b[36m(RayTrainWorker pid=266237)\u001b[0m     \"module_depth\": -1, \n",
      "\u001b[36m(RayTrainWorker pid=266237)\u001b[0m     \"top_modules\": 1, \n",
      "\u001b[36m(RayTrainWorker pid=266237)\u001b[0m     \"detailed\": true, \n",
      "\u001b[36m(RayTrainWorker pid=266237)\u001b[0m     \"output_file\": null\n",
      "\u001b[36m(RayTrainWorker pid=266237)\u001b[0m }\n",
      "\u001b[36m(RayTrainWorker pid=266237)\u001b[0m [2024-01-24 09:36:19,654] [INFO] [config.py:978:print]   fp16_auto_cast ............... False\n",
      "\u001b[36m(RayTrainWorker pid=266237)\u001b[0m [2024-01-24 09:36:19,654] [INFO] [config.py:978:print]   fp16_enabled ................. True\n",
      "\u001b[36m(RayTrainWorker pid=266237)\u001b[0m [2024-01-24 09:36:19,654] [INFO] [config.py:978:print]   fp16_master_weights_and_gradients  False\n",
      "\u001b[36m(RayTrainWorker pid=266237)\u001b[0m [2024-01-24 09:36:19,654] [INFO] [config.py:978:print]   global_rank .................. 0\n",
      "\u001b[36m(RayTrainWorker pid=266237)\u001b[0m [2024-01-24 09:36:19,654] [INFO] [config.py:978:print]   grad_accum_dtype ............. None\n",
      "\u001b[36m(RayTrainWorker pid=266237)\u001b[0m [2024-01-24 09:36:19,655] [INFO] [config.py:978:print]   gradient_accumulation_steps .. 1\n",
      "\u001b[36m(RayTrainWorker pid=266237)\u001b[0m [2024-01-24 09:36:19,655] [INFO] [config.py:978:print]   gradient_clipping ............ 1.0\n",
      "\u001b[36m(RayTrainWorker pid=266237)\u001b[0m [2024-01-24 09:36:19,655] [INFO] [config.py:978:print]   gradient_predivide_factor .... 1.0\n",
      "\u001b[36m(RayTrainWorker pid=266237)\u001b[0m [2024-01-24 09:36:19,655] [INFO] [config.py:978:print]   hybrid_engine ................ enabled=False max_out_tokens=512 inference_tp_size=1 release_inference_cache=False pin_parameters=True tp_gather_partition_size=8\n",
      "\u001b[36m(RayTrainWorker pid=266237)\u001b[0m [2024-01-24 09:36:19,655] [INFO] [config.py:978:print]   initial_dynamic_scale ........ 256\n",
      "\u001b[36m(RayTrainWorker pid=266237)\u001b[0m [2024-01-24 09:36:19,655] [INFO] [config.py:978:print]   load_universal_checkpoint .... False\n",
      "\u001b[36m(RayTrainWorker pid=266237)\u001b[0m [2024-01-24 09:36:19,655] [INFO] [config.py:978:print]   loss_scale ................... 0\n",
      "\u001b[36m(RayTrainWorker pid=266237)\u001b[0m [2024-01-24 09:36:19,655] [INFO] [config.py:978:print]   memory_breakdown ............. False\n",
      "\u001b[36m(RayTrainWorker pid=266237)\u001b[0m [2024-01-24 09:36:19,655] [INFO] [config.py:978:print]   mics_hierarchial_params_gather  False\n",
      "\u001b[36m(RayTrainWorker pid=266237)\u001b[0m [2024-01-24 09:36:19,655] [INFO] [config.py:978:print]   mics_shard_size .............. -1\n",
      "\u001b[36m(RayTrainWorker pid=266237)\u001b[0m [2024-01-24 09:36:19,655] [INFO] [config.py:978:print]   monitor_config ............... tensorboard=TensorBoardConfig(enabled=False, output_path='', job_name='DeepSpeedJobName') wandb=WandbConfig(enabled=False, group=None, team=None, project='deepspeed') csv_monitor=CSVConfig(enabled=False, output_path='', job_name='DeepSpeedJobName') enabled=False\n",
      "\u001b[36m(RayTrainWorker pid=266237)\u001b[0m [2024-01-24 09:36:19,655] [INFO] [config.py:978:print]   nebula_config ................ {\n",
      "\u001b[36m(RayTrainWorker pid=266237)\u001b[0m     \"enabled\": false, \n",
      "\u001b[36m(RayTrainWorker pid=266237)\u001b[0m     \"persistent_storage_path\": null, \n",
      "\u001b[36m(RayTrainWorker pid=266237)\u001b[0m     \"persistent_time_interval\": 100, \n",
      "\u001b[36m(RayTrainWorker pid=266237)\u001b[0m     \"num_of_version_in_retention\": 2, \n",
      "\u001b[36m(RayTrainWorker pid=266237)\u001b[0m     \"enable_nebula_load\": true, \n",
      "\u001b[36m(RayTrainWorker pid=266237)\u001b[0m     \"load_path\": null\n",
      "\u001b[36m(RayTrainWorker pid=266237)\u001b[0m }\n",
      "\u001b[36m(RayTrainWorker pid=266237)\u001b[0m [2024-01-24 09:36:19,655] [INFO] [config.py:978:print]   optimizer_legacy_fusion ...... False\n",
      "\u001b[36m(RayTrainWorker pid=266237)\u001b[0m [2024-01-24 09:36:19,655] [INFO] [config.py:978:print]   optimizer_name ............... adamw\n",
      "\u001b[36m(RayTrainWorker pid=266237)\u001b[0m [2024-01-24 09:36:19,655] [INFO] [config.py:978:print]   optimizer_params ............. {'lr': 2e-05, 'betas': [0.9, 0.999], 'eps': 1e-08}\n",
      "\u001b[36m(RayTrainWorker pid=266237)\u001b[0m [2024-01-24 09:36:19,655] [INFO] [config.py:978:print]   pipeline ..................... {'stages': 'auto', 'partition': 'best', 'seed_layers': False, 'activation_checkpoint_interval': 0, 'pipe_partitioned': True, 'grad_partitioned': True}\n",
      "\u001b[36m(RayTrainWorker pid=266237)\u001b[0m [2024-01-24 09:36:19,655] [INFO] [config.py:978:print]   pld_enabled .................. False\n",
      "\u001b[36m(RayTrainWorker pid=266237)\u001b[0m [2024-01-24 09:36:19,655] [INFO] [config.py:978:print]   pld_params ................... False\n",
      "\u001b[36m(RayTrainWorker pid=266237)\u001b[0m [2024-01-24 09:36:19,655] [INFO] [config.py:978:print]   prescale_gradients ........... False\n",
      "\u001b[36m(RayTrainWorker pid=266237)\u001b[0m [2024-01-24 09:36:19,655] [INFO] [config.py:978:print]   scheduler_name ............... None\n",
      "\u001b[36m(RayTrainWorker pid=266237)\u001b[0m [2024-01-24 09:36:19,655] [INFO] [config.py:978:print]   scheduler_params ............. None\n",
      "\u001b[36m(RayTrainWorker pid=266237)\u001b[0m [2024-01-24 09:36:19,655] [INFO] [config.py:978:print]   seq_parallel_communication_data_type  torch.float32\n",
      "\u001b[36m(RayTrainWorker pid=266237)\u001b[0m [2024-01-24 09:36:19,655] [INFO] [config.py:978:print]   sparse_attention ............. None\n",
      "\u001b[36m(RayTrainWorker pid=266237)\u001b[0m [2024-01-24 09:36:19,655] [INFO] [config.py:978:print]   sparse_gradients_enabled ..... False\n",
      "\u001b[36m(RayTrainWorker pid=266237)\u001b[0m [2024-01-24 09:36:19,655] [INFO] [config.py:978:print]   steps_per_print .............. 10\n",
      "\u001b[36m(RayTrainWorker pid=266237)\u001b[0m [2024-01-24 09:36:19,655] [INFO] [config.py:978:print]   train_batch_size ............. 16\n",
      "\u001b[36m(RayTrainWorker pid=266237)\u001b[0m [2024-01-24 09:36:19,655] [INFO] [config.py:978:print]   train_micro_batch_size_per_gpu  8\n",
      "\u001b[36m(RayTrainWorker pid=266237)\u001b[0m [2024-01-24 09:36:19,655] [INFO] [config.py:978:print]   use_node_local_storage ....... False\n",
      "\u001b[36m(RayTrainWorker pid=266237)\u001b[0m [2024-01-24 09:36:19,655] [INFO] [config.py:978:print]   wall_clock_breakdown ......... False\n",
      "\u001b[36m(RayTrainWorker pid=266237)\u001b[0m [2024-01-24 09:36:19,655] [INFO] [config.py:978:print]   weight_quantization_config ... None\n",
      "\u001b[36m(RayTrainWorker pid=266237)\u001b[0m [2024-01-24 09:36:19,655] [INFO] [config.py:978:print]   world_size ................... 2\n",
      "\u001b[36m(RayTrainWorker pid=266237)\u001b[0m [2024-01-24 09:36:19,656] [INFO] [config.py:978:print]   zero_allow_untested_optimizer  False\n",
      "\u001b[36m(RayTrainWorker pid=266237)\u001b[0m [2024-01-24 09:36:19,656] [INFO] [config.py:978:print]   zero_config .................. stage=3 contiguous_gradients=True reduce_scatter=True reduce_bucket_size=16777216 allgather_partitions=True allgather_bucket_size=500,000,000 overlap_comm=True load_from_fp32_weights=True elastic_checkpoint=False offload_param=DeepSpeedZeroOffloadParamConfig(device='cpu', nvme_path=None, buffer_count=5, buffer_size=100,000,000, max_in_cpu=1,000,000,000, pin_memory=True) offload_optimizer=DeepSpeedZeroOffloadOptimizerConfig(device='cpu', nvme_path=None, buffer_count=4, pin_memory=True, pipeline=False, pipeline_read=False, pipeline_write=False, fast_init=False, ratio=1.0) sub_group_size=1,000,000,000 cpu_offload_param=None cpu_offload_use_pin_memory=None cpu_offload=None prefetch_bucket_size=15099494 param_persistence_threshold=40960 model_persistence_threshold=sys.maxsize max_live_parameters=1,000,000,000 max_reuse_distance=1,000,000,000 gather_16bit_weights_on_model_save=True stage3_gather_fp16_weights_on_model_save=False ignore_unused_parameters=True legacy_stage1=False round_robin_gradients=True zero_hpz_partition_size=1 zero_quantized_weights=False zero_quantized_nontrainable_weights=False zero_quantized_gradients=False mics_shard_size=-1 mics_hierarchical_params_gather=False memory_efficient_linear=True pipeline_loading_checkpoint=False override_module_apply=True\n",
      "\u001b[36m(RayTrainWorker pid=266237)\u001b[0m [2024-01-24 09:36:19,656] [INFO] [config.py:978:print]   zero_enabled ................. True\n",
      "\u001b[36m(RayTrainWorker pid=266237)\u001b[0m [2024-01-24 09:36:19,656] [INFO] [config.py:978:print]   zero_force_ds_cpu_optimizer .. True\n",
      "\u001b[36m(RayTrainWorker pid=266237)\u001b[0m [2024-01-24 09:36:19,656] [INFO] [config.py:978:print]   zero_optimization_stage ...... 3\n",
      "\u001b[36m(RayTrainWorker pid=266237)\u001b[0m [2024-01-24 09:36:19,656] [INFO] [config.py:964:print_user_config]   json = {\n",
      "\u001b[36m(RayTrainWorker pid=266237)\u001b[0m     \"fp16\": {\n",
      "\u001b[36m(RayTrainWorker pid=266237)\u001b[0m         \"enabled\": true, \n",
      "\u001b[36m(RayTrainWorker pid=266237)\u001b[0m         \"initial_scale_power\": 8\n",
      "\u001b[36m(RayTrainWorker pid=266237)\u001b[0m     }, \n",
      "\u001b[36m(RayTrainWorker pid=266237)\u001b[0m     \"bf16\": {\n",
      "\u001b[36m(RayTrainWorker pid=266237)\u001b[0m         \"enabled\": false\n",
      "\u001b[36m(RayTrainWorker pid=266237)\u001b[0m     }, \n",
      "\u001b[36m(RayTrainWorker pid=266237)\u001b[0m     \"optimizer\": {\n",
      "\u001b[36m(RayTrainWorker pid=266237)\u001b[0m         \"type\": \"AdamW\", \n",
      "\u001b[36m(RayTrainWorker pid=266237)\u001b[0m         \"params\": {\n",
      "\u001b[36m(RayTrainWorker pid=266237)\u001b[0m             \"lr\": 2e-05, \n",
      "\u001b[36m(RayTrainWorker pid=266237)\u001b[0m             \"betas\": [0.9, 0.999], \n",
      "\u001b[36m(RayTrainWorker pid=266237)\u001b[0m             \"eps\": 1e-08\n",
      "\u001b[36m(RayTrainWorker pid=266237)\u001b[0m         }\n",
      "\u001b[36m(RayTrainWorker pid=266237)\u001b[0m     }, \n",
      "\u001b[36m(RayTrainWorker pid=266237)\u001b[0m     \"zero_optimization\": {\n",
      "\u001b[36m(RayTrainWorker pid=266237)\u001b[0m         \"stage\": 3, \n",
      "\u001b[36m(RayTrainWorker pid=266237)\u001b[0m         \"offload_optimizer\": {\n",
      "\u001b[36m(RayTrainWorker pid=266237)\u001b[0m             \"device\": \"cpu\", \n",
      "\u001b[36m(RayTrainWorker pid=266237)\u001b[0m             \"pin_memory\": true\n",
      "\u001b[36m(RayTrainWorker pid=266237)\u001b[0m         }, \n",
      "\u001b[36m(RayTrainWorker pid=266237)\u001b[0m         \"offload_param\": {\n",
      "\u001b[36m(RayTrainWorker pid=266237)\u001b[0m             \"device\": \"cpu\", \n",
      "\u001b[36m(RayTrainWorker pid=266237)\u001b[0m             \"pin_memory\": true\n",
      "\u001b[36m(RayTrainWorker pid=266237)\u001b[0m         }, \n",
      "\u001b[36m(RayTrainWorker pid=266237)\u001b[0m         \"overlap_comm\": true, \n",
      "\u001b[36m(RayTrainWorker pid=266237)\u001b[0m         \"contiguous_gradients\": true, \n",
      "\u001b[36m(RayTrainWorker pid=266237)\u001b[0m         \"reduce_bucket_size\": 1.677722e+07, \n",
      "\u001b[36m(RayTrainWorker pid=266237)\u001b[0m         \"stage3_prefetch_bucket_size\": 1.509949e+07, \n",
      "\u001b[36m(RayTrainWorker pid=266237)\u001b[0m         \"stage3_param_persistence_threshold\": 4.096000e+04, \n",
      "\u001b[36m(RayTrainWorker pid=266237)\u001b[0m         \"gather_16bit_weights_on_model_save\": true, \n",
      "\u001b[36m(RayTrainWorker pid=266237)\u001b[0m         \"round_robin_gradients\": true\n",
      "\u001b[36m(RayTrainWorker pid=266237)\u001b[0m     }, \n",
      "\u001b[36m(RayTrainWorker pid=266237)\u001b[0m     \"gradient_accumulation_steps\": 1, \n",
      "\u001b[36m(RayTrainWorker pid=266237)\u001b[0m     \"gradient_clipping\": 1.0, \n",
      "\u001b[36m(RayTrainWorker pid=266237)\u001b[0m     \"steps_per_print\": 10, \n",
      "\u001b[36m(RayTrainWorker pid=266237)\u001b[0m     \"train_batch_size\": 16, \n",
      "\u001b[36m(RayTrainWorker pid=266237)\u001b[0m     \"train_micro_batch_size_per_gpu\": 8, \n",
      "\u001b[36m(RayTrainWorker pid=266237)\u001b[0m     \"wall_clock_breakdown\": false\n",
      "\u001b[36m(RayTrainWorker pid=266237)\u001b[0m }\n"
     ]
    },
    {
     "name": "stderr",
     "output_type": "stream",
     "text": [
      "\u001b[36m(RayTrainWorker pid=266237)\u001b[0m ***** Running training *****\n",
      "\u001b[36m(RayTrainWorker pid=266237)\u001b[0m   Num examples = 10784\n",
      "\u001b[36m(RayTrainWorker pid=266237)\u001b[0m   Num Epochs = 9223372036854775807\n",
      "\u001b[36m(RayTrainWorker pid=266237)\u001b[0m   Instantaneous batch size per device = 8\n",
      "\u001b[36m(RayTrainWorker pid=266237)\u001b[0m   Total train batch size (w. parallel, distributed & accumulation) = 16\n",
      "\u001b[36m(RayTrainWorker pid=266237)\u001b[0m   Gradient Accumulation steps = 1\n",
      "\u001b[36m(RayTrainWorker pid=266237)\u001b[0m   Total optimization steps = 674\n",
      "\u001b[36m(RayTrainWorker pid=266237)\u001b[0m   Number of trainable parameters = 0\n",
      "\u001b[36m(RayTrainWorker pid=266238)\u001b[0m Loading extension module cpu_adam...\n"
     ]
    },
    {
     "data": {
      "application/vnd.jupyter.widget-view+json": {
       "model_id": "",
       "version_major": 2,
       "version_minor": 0
      },
      "text/plain": [
       "(pid=266453) - MapBatches(split_text)->MapBatches(tokenize)->RandomShuffle 1:   0%|          | 0/1 [00:00<?, ?…"
      ]
     },
     "metadata": {},
     "output_type": "display_data"
    },
    {
     "data": {
      "application/vnd.jupyter.widget-view+json": {
       "model_id": "",
       "version_major": 2,
       "version_minor": 0
      },
      "text/plain": [
       "(pid=266453) Shuffle Map 2:   0%|          | 0/1 [00:00<?, ?it/s]"
      ]
     },
     "metadata": {},
     "output_type": "display_data"
    },
    {
     "data": {
      "application/vnd.jupyter.widget-view+json": {
       "model_id": "",
       "version_major": 2,
       "version_minor": 0
      },
      "text/plain": [
       "(pid=266453) Shuffle Reduce 3:   0%|          | 0/1 [00:00<?, ?it/s]"
      ]
     },
     "metadata": {},
     "output_type": "display_data"
    },
    {
     "data": {
      "application/vnd.jupyter.widget-view+json": {
       "model_id": "",
       "version_major": 2,
       "version_minor": 0
      },
      "text/plain": [
       "(pid=266453) Running 0:   0%|          | 0/1 [00:00<?, ?it/s]"
      ]
     },
     "metadata": {},
     "output_type": "display_data"
    },
    {
     "name": "stderr",
     "output_type": "stream",
     "text": [
      "\u001b[36m(SplitCoordinator pid=266453)\u001b[0m Executing DAG InputDataBuffer[Input] -> AllToAllOperator[MapBatches(split_text)->MapBatches(tokenize)->RandomShuffle] -> OutputSplitter[split(2, equal=True)]\n",
      "\u001b[36m(SplitCoordinator pid=266453)\u001b[0m Execution config: ExecutionOptions(resource_limits=ExecutionResources(cpu=None, gpu=None, object_store_memory=None), exclude_resources=ExecutionResources(cpu=9.0, gpu=2.0, object_store_memory=0.0), locality_with_output=['f04480c4dea75141f1a311fae660b2c4899ab20f4cce2c91bfa4affb', 'f04480c4dea75141f1a311fae660b2c4899ab20f4cce2c91bfa4affb'], preserve_order=False, actor_locality_enabled=True, verbose_progress=False)\n",
      "\u001b[36m(SplitCoordinator pid=266453)\u001b[0m Tip: For detailed progress reporting, run `ray.data.DataContext.get_current().execution_options.verbose_progress = True`\n",
      "\u001b[36m(RayTrainWorker pid=266237)\u001b[0m /usr/local/lib/python3.10/dist-packages/torch/utils/checkpoint.py:429: UserWarning: torch.utils.checkpoint: please pass in use_reentrant=True or use_reentrant=False explicitly. The default value of use_reentrant will be updated to be False in the future. To maintain current behavior, pass use_reentrant=True. It is recommended that you use use_reentrant=False. Refer to docs for more details on the differences between the two variants.\n",
      "\u001b[36m(RayTrainWorker pid=266237)\u001b[0m   warnings.warn(\n",
      "\u001b[36m(RayTrainWorker pid=266237)\u001b[0m /usr/local/lib/python3.10/dist-packages/deepspeed/runtime/zero/stage3.py:1330: UserWarning: The torch.cuda.*DtypeTensor constructors are no longer recommended. It's best to use methods such as torch.tensor(data, dtype=*, device='cuda') to create tensors. (Triggered internally at ../torch/csrc/tensor/python_tensor.cpp:83.)\n",
      "\u001b[36m(RayTrainWorker pid=266237)\u001b[0m   total_norm_cuda = get_accelerator().FloatTensor([float(total_norm)])\n",
      "\u001b[36m(RayTrainWorker pid=266238)\u001b[0m /usr/local/lib/python3.10/dist-packages/torch/utils/checkpoint.py:429: UserWarning: torch.utils.checkpoint: please pass in use_reentrant=True or use_reentrant=False explicitly. The default value of use_reentrant will be updated to be False in the future. To maintain current behavior, pass use_reentrant=True. It is recommended that you use use_reentrant=False. Refer to docs for more details on the differences between the two variants.\n",
      "\u001b[36m(RayTrainWorker pid=266238)\u001b[0m   warnings.warn(\n"
     ]
    },
    {
     "name": "stdout",
     "output_type": "stream",
     "text": [
      "\u001b[36m(RayTrainWorker pid=266237)\u001b[0m {'loss': 12.2031, 'learning_rate': 1.997032640949555e-05, 'epoch': 0.0}\n"
     ]
    },
    {
     "name": "stderr",
     "output_type": "stream",
     "text": [
      "\u001b[36m(RayTrainWorker pid=266237)\u001b[0m /usr/local/lib/python3.10/dist-packages/torch/utils/checkpoint.py:429: UserWarning: torch.utils.checkpoint: please pass in use_reentrant=True or use_reentrant=False explicitly. The default value of use_reentrant will be updated to be False in the future. To maintain current behavior, pass use_reentrant=True. It is recommended that you use use_reentrant=False. Refer to docs for more details on the differences between the two variants.\n",
      "\u001b[36m(RayTrainWorker pid=266237)\u001b[0m   warnings.warn(\n"
     ]
    },
    {
     "name": "stdout",
     "output_type": "stream",
     "text": [
      "\u001b[36m(RayTrainWorker pid=266237)\u001b[0m {'loss': 6.9883, 'learning_rate': 1.99406528189911e-05, 'epoch': 0.0}\n"
     ]
    },
    {
     "name": "stderr",
     "output_type": "stream",
     "text": [
      "\u001b[36m(RayTrainWorker pid=266238)\u001b[0m /usr/local/lib/python3.10/dist-packages/deepspeed/runtime/zero/stage3.py:1330: UserWarning: The torch.cuda.*DtypeTensor constructors are no longer recommended. It's best to use methods such as torch.tensor(data, dtype=*, device='cuda') to create tensors. (Triggered internally at ../torch/csrc/tensor/python_tensor.cpp:83.)\n",
      "\u001b[36m(RayTrainWorker pid=266238)\u001b[0m   total_norm_cuda = get_accelerator().FloatTensor([float(total_norm)])\n",
      "\u001b[36m(RayTrainWorker pid=266237)\u001b[0m /usr/local/lib/python3.10/dist-packages/torch/utils/checkpoint.py:429: UserWarning: torch.utils.checkpoint: please pass in use_reentrant=True or use_reentrant=False explicitly. The default value of use_reentrant will be updated to be False in the future. To maintain current behavior, pass use_reentrant=True. It is recommended that you use use_reentrant=False. Refer to docs for more details on the differences between the two variants.\u001b[32m [repeated 2x across cluster] (Ray deduplicates logs by default. Set RAY_DEDUP_LOGS=0 to disable log deduplication, or see https://docs.ray.io/en/master/ray-observability/ray-logging.html#log-deduplication for more options.)\u001b[0m\n",
      "\u001b[36m(RayTrainWorker pid=266237)\u001b[0m   warnings.warn(\u001b[32m [repeated 2x across cluster]\u001b[0m\n"
     ]
    },
    {
     "name": "stdout",
     "output_type": "stream",
     "text": [
      "\u001b[36m(RayTrainWorker pid=266237)\u001b[0m {'loss': 2.709, 'learning_rate': 1.991097922848665e-05, 'epoch': 0.0}\n"
     ]
    },
    {
     "name": "stderr",
     "output_type": "stream",
     "text": [
      "\u001b[36m(RayTrainWorker pid=266237)\u001b[0m /usr/local/lib/python3.10/dist-packages/torch/utils/checkpoint.py:429: UserWarning: torch.utils.checkpoint: please pass in use_reentrant=True or use_reentrant=False explicitly. The default value of use_reentrant will be updated to be False in the future. To maintain current behavior, pass use_reentrant=True. It is recommended that you use use_reentrant=False. Refer to docs for more details on the differences between the two variants.\u001b[32m [repeated 2x across cluster]\u001b[0m\n",
      "\u001b[36m(RayTrainWorker pid=266237)\u001b[0m   warnings.warn(\u001b[32m [repeated 2x across cluster]\u001b[0m\n"
     ]
    },
    {
     "name": "stdout",
     "output_type": "stream",
     "text": [
      "\u001b[36m(RayTrainWorker pid=266237)\u001b[0m {'loss': 0.1581, 'learning_rate': 1.9881305637982196e-05, 'epoch': 0.01}\n"
     ]
    },
    {
     "name": "stderr",
     "output_type": "stream",
     "text": [
      "\u001b[36m(RayTrainWorker pid=266237)\u001b[0m /usr/local/lib/python3.10/dist-packages/torch/utils/checkpoint.py:429: UserWarning: torch.utils.checkpoint: please pass in use_reentrant=True or use_reentrant=False explicitly. The default value of use_reentrant will be updated to be False in the future. To maintain current behavior, pass use_reentrant=True. It is recommended that you use use_reentrant=False. Refer to docs for more details on the differences between the two variants.\u001b[32m [repeated 2x across cluster]\u001b[0m\n",
      "\u001b[36m(RayTrainWorker pid=266237)\u001b[0m   warnings.warn(\u001b[32m [repeated 2x across cluster]\u001b[0m\n"
     ]
    },
    {
     "name": "stdout",
     "output_type": "stream",
     "text": [
      "\u001b[36m(RayTrainWorker pid=266237)\u001b[0m {'loss': 0.1187, 'learning_rate': 1.9851632047477747e-05, 'epoch': 0.01}\n"
     ]
    },
    {
     "name": "stderr",
     "output_type": "stream",
     "text": [
      "\u001b[36m(RayTrainWorker pid=266237)\u001b[0m /usr/local/lib/python3.10/dist-packages/torch/utils/checkpoint.py:429: UserWarning: torch.utils.checkpoint: please pass in use_reentrant=True or use_reentrant=False explicitly. The default value of use_reentrant will be updated to be False in the future. To maintain current behavior, pass use_reentrant=True. It is recommended that you use use_reentrant=False. Refer to docs for more details on the differences between the two variants.\u001b[32m [repeated 2x across cluster]\u001b[0m\n",
      "\u001b[36m(RayTrainWorker pid=266237)\u001b[0m   warnings.warn(\u001b[32m [repeated 2x across cluster]\u001b[0m\n"
     ]
    },
    {
     "name": "stdout",
     "output_type": "stream",
     "text": [
      "\u001b[36m(RayTrainWorker pid=266237)\u001b[0m {'loss': 0.1158, 'learning_rate': 1.9821958456973295e-05, 'epoch': 0.01}\n"
     ]
    },
    {
     "name": "stderr",
     "output_type": "stream",
     "text": [
      "\u001b[36m(RayTrainWorker pid=266237)\u001b[0m /usr/local/lib/python3.10/dist-packages/torch/utils/checkpoint.py:429: UserWarning: torch.utils.checkpoint: please pass in use_reentrant=True or use_reentrant=False explicitly. The default value of use_reentrant will be updated to be False in the future. To maintain current behavior, pass use_reentrant=True. It is recommended that you use use_reentrant=False. Refer to docs for more details on the differences between the two variants.\u001b[32m [repeated 2x across cluster]\u001b[0m\n",
      "\u001b[36m(RayTrainWorker pid=266237)\u001b[0m   warnings.warn(\u001b[32m [repeated 2x across cluster]\u001b[0m\n"
     ]
    },
    {
     "name": "stdout",
     "output_type": "stream",
     "text": [
      "\u001b[36m(RayTrainWorker pid=266237)\u001b[0m {'loss': 0.1129, 'learning_rate': 1.9792284866468846e-05, 'epoch': 0.01}\n"
     ]
    },
    {
     "name": "stderr",
     "output_type": "stream",
     "text": [
      "\u001b[36m(RayTrainWorker pid=266237)\u001b[0m /usr/local/lib/python3.10/dist-packages/torch/utils/checkpoint.py:429: UserWarning: torch.utils.checkpoint: please pass in use_reentrant=True or use_reentrant=False explicitly. The default value of use_reentrant will be updated to be False in the future. To maintain current behavior, pass use_reentrant=True. It is recommended that you use use_reentrant=False. Refer to docs for more details on the differences between the two variants.\u001b[32m [repeated 2x across cluster]\u001b[0m\n",
      "\u001b[36m(RayTrainWorker pid=266237)\u001b[0m   warnings.warn(\u001b[32m [repeated 2x across cluster]\u001b[0m\n"
     ]
    },
    {
     "name": "stdout",
     "output_type": "stream",
     "text": [
      "\u001b[36m(RayTrainWorker pid=266237)\u001b[0m {'loss': 0.1031, 'learning_rate': 1.9762611275964394e-05, 'epoch': 0.01}\n"
     ]
    },
    {
     "name": "stderr",
     "output_type": "stream",
     "text": [
      "\u001b[36m(RayTrainWorker pid=266237)\u001b[0m /usr/local/lib/python3.10/dist-packages/torch/utils/checkpoint.py:429: UserWarning: torch.utils.checkpoint: please pass in use_reentrant=True or use_reentrant=False explicitly. The default value of use_reentrant will be updated to be False in the future. To maintain current behavior, pass use_reentrant=True. It is recommended that you use use_reentrant=False. Refer to docs for more details on the differences between the two variants.\u001b[32m [repeated 2x across cluster]\u001b[0m\n",
      "\u001b[36m(RayTrainWorker pid=266237)\u001b[0m   warnings.warn(\u001b[32m [repeated 2x across cluster]\u001b[0m\n"
     ]
    },
    {
     "name": "stdout",
     "output_type": "stream",
     "text": [
      "\u001b[36m(RayTrainWorker pid=266237)\u001b[0m {'loss': 0.1045, 'learning_rate': 1.9732937685459942e-05, 'epoch': 0.01}\n"
     ]
    },
    {
     "name": "stderr",
     "output_type": "stream",
     "text": [
      "\u001b[36m(RayTrainWorker pid=266237)\u001b[0m /usr/local/lib/python3.10/dist-packages/torch/utils/checkpoint.py:429: UserWarning: torch.utils.checkpoint: please pass in use_reentrant=True or use_reentrant=False explicitly. The default value of use_reentrant will be updated to be False in the future. To maintain current behavior, pass use_reentrant=True. It is recommended that you use use_reentrant=False. Refer to docs for more details on the differences between the two variants.\u001b[32m [repeated 2x across cluster]\u001b[0m\n",
      "\u001b[36m(RayTrainWorker pid=266237)\u001b[0m   warnings.warn(\u001b[32m [repeated 2x across cluster]\u001b[0m\n"
     ]
    },
    {
     "name": "stdout",
     "output_type": "stream",
     "text": [
      "\u001b[36m(RayTrainWorker pid=266237)\u001b[0m [2024-01-24 09:38:32,910] [INFO] [logging.py:96:log_dist] [Rank 0] step=10, skipped=0, lr=[1.9703264094955493e-05], mom=[[0.9, 0.999]]\n",
      "\u001b[36m(RayTrainWorker pid=266237)\u001b[0m [2024-01-24 09:38:32,910] [INFO] [timer.py:260:stop] epoch=0/micro_step=10/global_step=10, RunningAvgSamplesPerSec=1.4892674986990257, CurrSamplesPerSec=1.4950116646745464, MemAllocated=0.21GB, MaxMemAllocated=8.98GB\n",
      "\u001b[36m(RayTrainWorker pid=266237)\u001b[0m {'loss': 0.0934, 'learning_rate': 1.9703264094955493e-05, 'epoch': 0.01}\n"
     ]
    },
    {
     "name": "stderr",
     "output_type": "stream",
     "text": [
      "\u001b[36m(RayTrainWorker pid=266237)\u001b[0m /usr/local/lib/python3.10/dist-packages/torch/utils/checkpoint.py:429: UserWarning: torch.utils.checkpoint: please pass in use_reentrant=True or use_reentrant=False explicitly. The default value of use_reentrant will be updated to be False in the future. To maintain current behavior, pass use_reentrant=True. It is recommended that you use use_reentrant=False. Refer to docs for more details on the differences between the two variants.\u001b[32m [repeated 2x across cluster]\u001b[0m\n",
      "\u001b[36m(RayTrainWorker pid=266237)\u001b[0m   warnings.warn(\u001b[32m [repeated 2x across cluster]\u001b[0m\n"
     ]
    },
    {
     "name": "stdout",
     "output_type": "stream",
     "text": [
      "\u001b[36m(RayTrainWorker pid=266237)\u001b[0m {'loss': 0.0926, 'learning_rate': 1.967359050445104e-05, 'epoch': 0.02}\n"
     ]
    },
    {
     "name": "stderr",
     "output_type": "stream",
     "text": [
      "\u001b[36m(RayTrainWorker pid=266237)\u001b[0m /usr/local/lib/python3.10/dist-packages/torch/utils/checkpoint.py:429: UserWarning: torch.utils.checkpoint: please pass in use_reentrant=True or use_reentrant=False explicitly. The default value of use_reentrant will be updated to be False in the future. To maintain current behavior, pass use_reentrant=True. It is recommended that you use use_reentrant=False. Refer to docs for more details on the differences between the two variants.\u001b[32m [repeated 2x across cluster]\u001b[0m\n",
      "\u001b[36m(RayTrainWorker pid=266237)\u001b[0m   warnings.warn(\u001b[32m [repeated 2x across cluster]\u001b[0m\n"
     ]
    },
    {
     "name": "stdout",
     "output_type": "stream",
     "text": [
      "\u001b[36m(RayTrainWorker pid=266237)\u001b[0m {'loss': 0.091, 'learning_rate': 1.964391691394659e-05, 'epoch': 0.02}\n"
     ]
    },
    {
     "name": "stderr",
     "output_type": "stream",
     "text": [
      "\u001b[36m(RayTrainWorker pid=266237)\u001b[0m /usr/local/lib/python3.10/dist-packages/torch/utils/checkpoint.py:429: UserWarning: torch.utils.checkpoint: please pass in use_reentrant=True or use_reentrant=False explicitly. The default value of use_reentrant will be updated to be False in the future. To maintain current behavior, pass use_reentrant=True. It is recommended that you use use_reentrant=False. Refer to docs for more details on the differences between the two variants.\u001b[32m [repeated 2x across cluster]\u001b[0m\n",
      "\u001b[36m(RayTrainWorker pid=266237)\u001b[0m   warnings.warn(\u001b[32m [repeated 2x across cluster]\u001b[0m\n"
     ]
    },
    {
     "name": "stdout",
     "output_type": "stream",
     "text": [
      "\u001b[36m(RayTrainWorker pid=266237)\u001b[0m {'loss': 0.0989, 'learning_rate': 1.9614243323442137e-05, 'epoch': 0.02}\n"
     ]
    },
    {
     "name": "stderr",
     "output_type": "stream",
     "text": [
      "\u001b[36m(RayTrainWorker pid=266237)\u001b[0m /usr/local/lib/python3.10/dist-packages/torch/utils/checkpoint.py:429: UserWarning: torch.utils.checkpoint: please pass in use_reentrant=True or use_reentrant=False explicitly. The default value of use_reentrant will be updated to be False in the future. To maintain current behavior, pass use_reentrant=True. It is recommended that you use use_reentrant=False. Refer to docs for more details on the differences between the two variants.\u001b[32m [repeated 2x across cluster]\u001b[0m\n",
      "\u001b[36m(RayTrainWorker pid=266237)\u001b[0m   warnings.warn(\u001b[32m [repeated 2x across cluster]\u001b[0m\n"
     ]
    },
    {
     "name": "stdout",
     "output_type": "stream",
     "text": [
      "\u001b[36m(RayTrainWorker pid=266237)\u001b[0m {'loss': 0.0923, 'learning_rate': 1.9584569732937684e-05, 'epoch': 0.02}\n"
     ]
    },
    {
     "name": "stderr",
     "output_type": "stream",
     "text": [
      "\u001b[36m(RayTrainWorker pid=266237)\u001b[0m /usr/local/lib/python3.10/dist-packages/torch/utils/checkpoint.py:429: UserWarning: torch.utils.checkpoint: please pass in use_reentrant=True or use_reentrant=False explicitly. The default value of use_reentrant will be updated to be False in the future. To maintain current behavior, pass use_reentrant=True. It is recommended that you use use_reentrant=False. Refer to docs for more details on the differences between the two variants.\u001b[32m [repeated 2x across cluster]\u001b[0m\n",
      "\u001b[36m(RayTrainWorker pid=266237)\u001b[0m   warnings.warn(\u001b[32m [repeated 2x across cluster]\u001b[0m\n"
     ]
    },
    {
     "name": "stdout",
     "output_type": "stream",
     "text": [
      "\u001b[36m(RayTrainWorker pid=266237)\u001b[0m {'loss': 0.0924, 'learning_rate': 1.9554896142433236e-05, 'epoch': 0.02}\n"
     ]
    },
    {
     "name": "stderr",
     "output_type": "stream",
     "text": [
      "\u001b[36m(RayTrainWorker pid=266237)\u001b[0m /usr/local/lib/python3.10/dist-packages/torch/utils/checkpoint.py:429: UserWarning: torch.utils.checkpoint: please pass in use_reentrant=True or use_reentrant=False explicitly. The default value of use_reentrant will be updated to be False in the future. To maintain current behavior, pass use_reentrant=True. It is recommended that you use use_reentrant=False. Refer to docs for more details on the differences between the two variants.\u001b[32m [repeated 2x across cluster]\u001b[0m\n",
      "\u001b[36m(RayTrainWorker pid=266237)\u001b[0m   warnings.warn(\u001b[32m [repeated 2x across cluster]\u001b[0m\n"
     ]
    },
    {
     "name": "stdout",
     "output_type": "stream",
     "text": [
      "\u001b[36m(RayTrainWorker pid=266237)\u001b[0m {'loss': 0.0875, 'learning_rate': 1.9525222551928784e-05, 'epoch': 0.02}\n"
     ]
    },
    {
     "name": "stderr",
     "output_type": "stream",
     "text": [
      "\u001b[36m(RayTrainWorker pid=266237)\u001b[0m /usr/local/lib/python3.10/dist-packages/torch/utils/checkpoint.py:429: UserWarning: torch.utils.checkpoint: please pass in use_reentrant=True or use_reentrant=False explicitly. The default value of use_reentrant will be updated to be False in the future. To maintain current behavior, pass use_reentrant=True. It is recommended that you use use_reentrant=False. Refer to docs for more details on the differences between the two variants.\u001b[32m [repeated 2x across cluster]\u001b[0m\n",
      "\u001b[36m(RayTrainWorker pid=266237)\u001b[0m   warnings.warn(\u001b[32m [repeated 2x across cluster]\u001b[0m\n"
     ]
    },
    {
     "name": "stdout",
     "output_type": "stream",
     "text": [
      "\u001b[36m(RayTrainWorker pid=266237)\u001b[0m {'loss': 0.0832, 'learning_rate': 1.9495548961424335e-05, 'epoch': 0.03}\n"
     ]
    },
    {
     "name": "stderr",
     "output_type": "stream",
     "text": [
      "\u001b[36m(RayTrainWorker pid=266237)\u001b[0m /usr/local/lib/python3.10/dist-packages/torch/utils/checkpoint.py:429: UserWarning: torch.utils.checkpoint: please pass in use_reentrant=True or use_reentrant=False explicitly. The default value of use_reentrant will be updated to be False in the future. To maintain current behavior, pass use_reentrant=True. It is recommended that you use use_reentrant=False. Refer to docs for more details on the differences between the two variants.\u001b[32m [repeated 2x across cluster]\u001b[0m\n",
      "\u001b[36m(RayTrainWorker pid=266237)\u001b[0m   warnings.warn(\u001b[32m [repeated 2x across cluster]\u001b[0m\n"
     ]
    },
    {
     "name": "stdout",
     "output_type": "stream",
     "text": [
      "\u001b[36m(RayTrainWorker pid=266237)\u001b[0m {'loss': 0.0792, 'learning_rate': 1.9465875370919883e-05, 'epoch': 0.03}\n"
     ]
    },
    {
     "name": "stderr",
     "output_type": "stream",
     "text": [
      "\u001b[36m(RayTrainWorker pid=266237)\u001b[0m /usr/local/lib/python3.10/dist-packages/torch/utils/checkpoint.py:429: UserWarning: torch.utils.checkpoint: please pass in use_reentrant=True or use_reentrant=False explicitly. The default value of use_reentrant will be updated to be False in the future. To maintain current behavior, pass use_reentrant=True. It is recommended that you use use_reentrant=False. Refer to docs for more details on the differences between the two variants.\u001b[32m [repeated 2x across cluster]\u001b[0m\n",
      "\u001b[36m(RayTrainWorker pid=266237)\u001b[0m   warnings.warn(\u001b[32m [repeated 2x across cluster]\u001b[0m\n"
     ]
    },
    {
     "name": "stdout",
     "output_type": "stream",
     "text": [
      "\u001b[36m(RayTrainWorker pid=266237)\u001b[0m {'loss': 0.0904, 'learning_rate': 1.943620178041543e-05, 'epoch': 0.03}\n"
     ]
    },
    {
     "name": "stderr",
     "output_type": "stream",
     "text": [
      "\u001b[36m(RayTrainWorker pid=266237)\u001b[0m /usr/local/lib/python3.10/dist-packages/torch/utils/checkpoint.py:429: UserWarning: torch.utils.checkpoint: please pass in use_reentrant=True or use_reentrant=False explicitly. The default value of use_reentrant will be updated to be False in the future. To maintain current behavior, pass use_reentrant=True. It is recommended that you use use_reentrant=False. Refer to docs for more details on the differences between the two variants.\u001b[32m [repeated 2x across cluster]\u001b[0m\n",
      "\u001b[36m(RayTrainWorker pid=266237)\u001b[0m   warnings.warn(\u001b[32m [repeated 2x across cluster]\u001b[0m\n"
     ]
    },
    {
     "name": "stdout",
     "output_type": "stream",
     "text": [
      "\u001b[36m(RayTrainWorker pid=266237)\u001b[0m [2024-01-24 09:40:24,200] [INFO] [logging.py:96:log_dist] [Rank 0] step=20, skipped=0, lr=[1.940652818991098e-05], mom=[[0.9, 0.999]]\n",
      "\u001b[36m(RayTrainWorker pid=266237)\u001b[0m [2024-01-24 09:40:24,201] [INFO] [timer.py:260:stop] epoch=0/micro_step=20/global_step=20, RunningAvgSamplesPerSec=1.4606751628215193, CurrSamplesPerSec=1.4091414575825598, MemAllocated=0.21GB, MaxMemAllocated=8.98GB\n",
      "\u001b[36m(RayTrainWorker pid=266237)\u001b[0m {'loss': 0.0873, 'learning_rate': 1.940652818991098e-05, 'epoch': 0.03}\n"
     ]
    },
    {
     "name": "stderr",
     "output_type": "stream",
     "text": [
      "\u001b[36m(RayTrainWorker pid=266237)\u001b[0m /usr/local/lib/python3.10/dist-packages/torch/utils/checkpoint.py:429: UserWarning: torch.utils.checkpoint: please pass in use_reentrant=True or use_reentrant=False explicitly. The default value of use_reentrant will be updated to be False in the future. To maintain current behavior, pass use_reentrant=True. It is recommended that you use use_reentrant=False. Refer to docs for more details on the differences between the two variants.\u001b[32m [repeated 2x across cluster]\u001b[0m\n",
      "\u001b[36m(RayTrainWorker pid=266237)\u001b[0m   warnings.warn(\u001b[32m [repeated 2x across cluster]\u001b[0m\n"
     ]
    },
    {
     "name": "stdout",
     "output_type": "stream",
     "text": [
      "\u001b[36m(RayTrainWorker pid=266237)\u001b[0m {'loss': 0.0904, 'learning_rate': 1.937685459940653e-05, 'epoch': 0.03}\n"
     ]
    },
    {
     "name": "stderr",
     "output_type": "stream",
     "text": [
      "\u001b[36m(RayTrainWorker pid=266237)\u001b[0m /usr/local/lib/python3.10/dist-packages/torch/utils/checkpoint.py:429: UserWarning: torch.utils.checkpoint: please pass in use_reentrant=True or use_reentrant=False explicitly. The default value of use_reentrant will be updated to be False in the future. To maintain current behavior, pass use_reentrant=True. It is recommended that you use use_reentrant=False. Refer to docs for more details on the differences between the two variants.\u001b[32m [repeated 2x across cluster]\u001b[0m\n",
      "\u001b[36m(RayTrainWorker pid=266237)\u001b[0m   warnings.warn(\u001b[32m [repeated 2x across cluster]\u001b[0m\n"
     ]
    },
    {
     "name": "stdout",
     "output_type": "stream",
     "text": [
      "\u001b[36m(RayTrainWorker pid=266237)\u001b[0m {'loss': 0.0865, 'learning_rate': 1.9347181008902077e-05, 'epoch': 0.03}\n"
     ]
    },
    {
     "name": "stderr",
     "output_type": "stream",
     "text": [
      "\u001b[36m(RayTrainWorker pid=266237)\u001b[0m /usr/local/lib/python3.10/dist-packages/torch/utils/checkpoint.py:429: UserWarning: torch.utils.checkpoint: please pass in use_reentrant=True or use_reentrant=False explicitly. The default value of use_reentrant will be updated to be False in the future. To maintain current behavior, pass use_reentrant=True. It is recommended that you use use_reentrant=False. Refer to docs for more details on the differences between the two variants.\u001b[32m [repeated 2x across cluster]\u001b[0m\n",
      "\u001b[36m(RayTrainWorker pid=266237)\u001b[0m   warnings.warn(\u001b[32m [repeated 2x across cluster]\u001b[0m\n"
     ]
    },
    {
     "name": "stdout",
     "output_type": "stream",
     "text": [
      "\u001b[36m(RayTrainWorker pid=266237)\u001b[0m {'loss': 0.086, 'learning_rate': 1.931750741839763e-05, 'epoch': 0.03}\n"
     ]
    },
    {
     "name": "stderr",
     "output_type": "stream",
     "text": [
      "\u001b[36m(RayTrainWorker pid=266237)\u001b[0m /usr/local/lib/python3.10/dist-packages/torch/utils/checkpoint.py:429: UserWarning: torch.utils.checkpoint: please pass in use_reentrant=True or use_reentrant=False explicitly. The default value of use_reentrant will be updated to be False in the future. To maintain current behavior, pass use_reentrant=True. It is recommended that you use use_reentrant=False. Refer to docs for more details on the differences between the two variants.\u001b[32m [repeated 2x across cluster]\u001b[0m\n",
      "\u001b[36m(RayTrainWorker pid=266237)\u001b[0m   warnings.warn(\u001b[32m [repeated 2x across cluster]\u001b[0m\n"
     ]
    },
    {
     "name": "stdout",
     "output_type": "stream",
     "text": [
      "\u001b[36m(RayTrainWorker pid=266237)\u001b[0m {'loss': 0.0857, 'learning_rate': 1.9287833827893176e-05, 'epoch': 0.04}\n"
     ]
    },
    {
     "name": "stderr",
     "output_type": "stream",
     "text": [
      "\u001b[36m(RayTrainWorker pid=266237)\u001b[0m /usr/local/lib/python3.10/dist-packages/torch/utils/checkpoint.py:429: UserWarning: torch.utils.checkpoint: please pass in use_reentrant=True or use_reentrant=False explicitly. The default value of use_reentrant will be updated to be False in the future. To maintain current behavior, pass use_reentrant=True. It is recommended that you use use_reentrant=False. Refer to docs for more details on the differences between the two variants.\u001b[32m [repeated 2x across cluster]\u001b[0m\n",
      "\u001b[36m(RayTrainWorker pid=266237)\u001b[0m   warnings.warn(\u001b[32m [repeated 2x across cluster]\u001b[0m\n"
     ]
    },
    {
     "name": "stdout",
     "output_type": "stream",
     "text": [
      "\u001b[36m(RayTrainWorker pid=266237)\u001b[0m {'loss': 0.0874, 'learning_rate': 1.9258160237388724e-05, 'epoch': 0.04}\n"
     ]
    },
    {
     "name": "stderr",
     "output_type": "stream",
     "text": [
      "\u001b[36m(RayTrainWorker pid=266237)\u001b[0m /usr/local/lib/python3.10/dist-packages/torch/utils/checkpoint.py:429: UserWarning: torch.utils.checkpoint: please pass in use_reentrant=True or use_reentrant=False explicitly. The default value of use_reentrant will be updated to be False in the future. To maintain current behavior, pass use_reentrant=True. It is recommended that you use use_reentrant=False. Refer to docs for more details on the differences between the two variants.\u001b[32m [repeated 2x across cluster]\u001b[0m\n",
      "\u001b[36m(RayTrainWorker pid=266237)\u001b[0m   warnings.warn(\u001b[32m [repeated 2x across cluster]\u001b[0m\n"
     ]
    },
    {
     "name": "stdout",
     "output_type": "stream",
     "text": [
      "\u001b[36m(RayTrainWorker pid=266237)\u001b[0m {'loss': 0.0836, 'learning_rate': 1.9228486646884275e-05, 'epoch': 0.04}\n"
     ]
    },
    {
     "name": "stderr",
     "output_type": "stream",
     "text": [
      "\u001b[36m(RayTrainWorker pid=266237)\u001b[0m /usr/local/lib/python3.10/dist-packages/torch/utils/checkpoint.py:429: UserWarning: torch.utils.checkpoint: please pass in use_reentrant=True or use_reentrant=False explicitly. The default value of use_reentrant will be updated to be False in the future. To maintain current behavior, pass use_reentrant=True. It is recommended that you use use_reentrant=False. Refer to docs for more details on the differences between the two variants.\u001b[32m [repeated 2x across cluster]\u001b[0m\n",
      "\u001b[36m(RayTrainWorker pid=266237)\u001b[0m   warnings.warn(\u001b[32m [repeated 2x across cluster]\u001b[0m\n"
     ]
    },
    {
     "name": "stdout",
     "output_type": "stream",
     "text": [
      "\u001b[36m(RayTrainWorker pid=266237)\u001b[0m {'loss': 0.0862, 'learning_rate': 1.9198813056379823e-05, 'epoch': 0.04}\n"
     ]
    },
    {
     "name": "stderr",
     "output_type": "stream",
     "text": [
      "\u001b[36m(RayTrainWorker pid=266237)\u001b[0m /usr/local/lib/python3.10/dist-packages/torch/utils/checkpoint.py:429: UserWarning: torch.utils.checkpoint: please pass in use_reentrant=True or use_reentrant=False explicitly. The default value of use_reentrant will be updated to be False in the future. To maintain current behavior, pass use_reentrant=True. It is recommended that you use use_reentrant=False. Refer to docs for more details on the differences between the two variants.\u001b[32m [repeated 2x across cluster]\u001b[0m\n",
      "\u001b[36m(RayTrainWorker pid=266237)\u001b[0m   warnings.warn(\u001b[32m [repeated 2x across cluster]\u001b[0m\n"
     ]
    },
    {
     "name": "stdout",
     "output_type": "stream",
     "text": [
      "\u001b[36m(RayTrainWorker pid=266237)\u001b[0m {'loss': 0.0844, 'learning_rate': 1.9169139465875374e-05, 'epoch': 0.04}\n"
     ]
    },
    {
     "name": "stderr",
     "output_type": "stream",
     "text": [
      "\u001b[36m(RayTrainWorker pid=266237)\u001b[0m /usr/local/lib/python3.10/dist-packages/torch/utils/checkpoint.py:429: UserWarning: torch.utils.checkpoint: please pass in use_reentrant=True or use_reentrant=False explicitly. The default value of use_reentrant will be updated to be False in the future. To maintain current behavior, pass use_reentrant=True. It is recommended that you use use_reentrant=False. Refer to docs for more details on the differences between the two variants.\u001b[32m [repeated 2x across cluster]\u001b[0m\n",
      "\u001b[36m(RayTrainWorker pid=266237)\u001b[0m   warnings.warn(\u001b[32m [repeated 2x across cluster]\u001b[0m\n"
     ]
    },
    {
     "name": "stdout",
     "output_type": "stream",
     "text": [
      "\u001b[36m(RayTrainWorker pid=266237)\u001b[0m {'loss': 0.0846, 'learning_rate': 1.9139465875370922e-05, 'epoch': 0.04}\n"
     ]
    },
    {
     "name": "stderr",
     "output_type": "stream",
     "text": [
      "\u001b[36m(RayTrainWorker pid=266237)\u001b[0m /usr/local/lib/python3.10/dist-packages/torch/utils/checkpoint.py:429: UserWarning: torch.utils.checkpoint: please pass in use_reentrant=True or use_reentrant=False explicitly. The default value of use_reentrant will be updated to be False in the future. To maintain current behavior, pass use_reentrant=True. It is recommended that you use use_reentrant=False. Refer to docs for more details on the differences between the two variants.\u001b[32m [repeated 2x across cluster]\u001b[0m\n",
      "\u001b[36m(RayTrainWorker pid=266237)\u001b[0m   warnings.warn(\u001b[32m [repeated 2x across cluster]\u001b[0m\n"
     ]
    },
    {
     "name": "stdout",
     "output_type": "stream",
     "text": [
      "\u001b[36m(RayTrainWorker pid=266237)\u001b[0m [2024-01-24 09:42:20,855] [INFO] [logging.py:96:log_dist] [Rank 0] step=30, skipped=0, lr=[1.910979228486647e-05], mom=[[0.9, 0.999]]\n",
      "\u001b[36m(RayTrainWorker pid=266237)\u001b[0m [2024-01-24 09:42:20,855] [INFO] [timer.py:260:stop] epoch=0/micro_step=30/global_step=30, RunningAvgSamplesPerSec=1.42790700193431, CurrSamplesPerSec=1.41897354735648, MemAllocated=0.21GB, MaxMemAllocated=8.98GB\n",
      "\u001b[36m(RayTrainWorker pid=266237)\u001b[0m {'loss': 0.0875, 'learning_rate': 1.910979228486647e-05, 'epoch': 0.04}\n"
     ]
    },
    {
     "name": "stderr",
     "output_type": "stream",
     "text": [
      "\u001b[36m(RayTrainWorker pid=266237)\u001b[0m /usr/local/lib/python3.10/dist-packages/torch/utils/checkpoint.py:429: UserWarning: torch.utils.checkpoint: please pass in use_reentrant=True or use_reentrant=False explicitly. The default value of use_reentrant will be updated to be False in the future. To maintain current behavior, pass use_reentrant=True. It is recommended that you use use_reentrant=False. Refer to docs for more details on the differences between the two variants.\u001b[32m [repeated 2x across cluster]\u001b[0m\n",
      "\u001b[36m(RayTrainWorker pid=266237)\u001b[0m   warnings.warn(\u001b[32m [repeated 2x across cluster]\u001b[0m\n"
     ]
    },
    {
     "name": "stdout",
     "output_type": "stream",
     "text": [
      "\u001b[36m(RayTrainWorker pid=266237)\u001b[0m {'loss': 0.0824, 'learning_rate': 1.908011869436202e-05, 'epoch': 0.05}\n"
     ]
    },
    {
     "name": "stderr",
     "output_type": "stream",
     "text": [
      "\u001b[36m(RayTrainWorker pid=266237)\u001b[0m /usr/local/lib/python3.10/dist-packages/torch/utils/checkpoint.py:429: UserWarning: torch.utils.checkpoint: please pass in use_reentrant=True or use_reentrant=False explicitly. The default value of use_reentrant will be updated to be False in the future. To maintain current behavior, pass use_reentrant=True. It is recommended that you use use_reentrant=False. Refer to docs for more details on the differences between the two variants.\u001b[32m [repeated 2x across cluster]\u001b[0m\n",
      "\u001b[36m(RayTrainWorker pid=266237)\u001b[0m   warnings.warn(\u001b[32m [repeated 2x across cluster]\u001b[0m\n"
     ]
    },
    {
     "name": "stdout",
     "output_type": "stream",
     "text": [
      "\u001b[36m(RayTrainWorker pid=266237)\u001b[0m {'loss': 0.0842, 'learning_rate': 1.905044510385757e-05, 'epoch': 0.05}\n"
     ]
    },
    {
     "name": "stderr",
     "output_type": "stream",
     "text": [
      "\u001b[36m(RayTrainWorker pid=266237)\u001b[0m /usr/local/lib/python3.10/dist-packages/torch/utils/checkpoint.py:429: UserWarning: torch.utils.checkpoint: please pass in use_reentrant=True or use_reentrant=False explicitly. The default value of use_reentrant will be updated to be False in the future. To maintain current behavior, pass use_reentrant=True. It is recommended that you use use_reentrant=False. Refer to docs for more details on the differences between the two variants.\u001b[32m [repeated 2x across cluster]\u001b[0m\n",
      "\u001b[36m(RayTrainWorker pid=266237)\u001b[0m   warnings.warn(\u001b[32m [repeated 2x across cluster]\u001b[0m\n"
     ]
    }
   ],
   "source": [
    "results = trainer.fit()"
   ]
  },
  {
   "cell_type": "code",
   "execution_count": null,
   "id": "f9c3f168-f6a9-4287-8b4b-e07ecacc3ae5",
   "metadata": {},
   "outputs": [],
   "source": [
    "    "
   ]
  },
  {
   "cell_type": "code",
   "execution_count": null,
   "id": "e9a4470f-4230-428a-98f0-03504d234e81",
   "metadata": {},
   "outputs": [],
   "source": []
  }
 ],
 "metadata": {
  "kernelspec": {
   "display_name": "Python 3 (ipykernel)",
   "language": "python",
   "name": "python3"
  },
  "language_info": {
   "codemirror_mode": {
    "name": "ipython",
    "version": 3
   },
   "file_extension": ".py",
   "mimetype": "text/x-python",
   "name": "python",
   "nbconvert_exporter": "python",
   "pygments_lexer": "ipython3",
   "version": "3.10.12"
  }
 },
 "nbformat": 4,
 "nbformat_minor": 5
}
